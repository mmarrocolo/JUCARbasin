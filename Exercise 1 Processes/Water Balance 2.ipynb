{
 "cells": [
  {
   "cell_type": "code",
   "execution_count": 16,
   "metadata": {},
   "outputs": [],
   "source": [
    "import numpy as np\n",
    "import pandas as pd\n",
    "import scipy.stats as stats\n",
    "import matplotlib.pyplot as plt"
   ]
  },
  {
   "cell_type": "code",
   "execution_count": 17,
   "metadata": {},
   "outputs": [
    {
     "data": {
      "text/plain": [
       "time\n",
       "2010-01-01 12:00:00     1.570316\n",
       "2010-01-02 12:00:00     0.038551\n",
       "2010-01-03 12:00:00     2.237453\n",
       "2010-01-04 12:00:00    11.731629\n",
       "2010-01-05 12:00:00     6.421555\n",
       "                         ...    \n",
       "2012-12-27 12:00:00     0.000000\n",
       "2012-12-28 12:00:00     0.000000\n",
       "2012-12-29 12:00:00     0.032534\n",
       "2012-12-30 12:00:00     0.002093\n",
       "2012-12-31 12:00:00     0.009044\n",
       "Name: pr, Length: 1096, dtype: float64"
      ]
     },
     "execution_count": 17,
     "metadata": {},
     "output_type": "execute_result"
    }
   ],
   "source": [
    "import xarray as xr\n",
    "\n",
    "filename = \"OBS6_ERA5_reanaly_1_day_pr_2010-2012.nc\"  # Update the path to the correct location of the file\n",
    "# Read the NetCDF file\n",
    "ds = xr.open_dataset(filename)\n",
    "# Convert to a pandas DataFrame\n",
    "df = ds.to_dataframe()\n",
    "# Reset the index if needed\n",
    "df.reset_index(inplace=True)\n",
    "df = df[df['bnds'] == 0]\n",
    "df.index = pd.to_datetime(df['time'])\n",
    "df.drop(columns=['time', 'bnds'], inplace=True)\n",
    "prec  = df['pr']  # Precipitation data\n",
    "prec  = prec*86400  # Convert from m/s to mm/day)\n",
    "prec[prec < 0] = 0  # Set negative values to zero\n",
    "prec\n"
   ]
  },
  {
   "cell_type": "code",
   "execution_count": 18,
   "metadata": {},
   "outputs": [
    {
     "data": {
      "text/plain": [
       "time\n",
       "2010-08-01 12:00:00    5.154735\n",
       "2010-08-02 12:00:00    5.408309\n",
       "2010-08-03 12:00:00    4.440235\n",
       "2010-08-04 12:00:00    5.019661\n",
       "2010-08-05 12:00:00    5.293723\n",
       "                         ...   \n",
       "2012-08-27 12:00:00    4.743519\n",
       "2012-08-28 12:00:00    4.946479\n",
       "2012-08-29 12:00:00    4.770978\n",
       "2012-08-30 12:00:00    3.781321\n",
       "2012-08-31 12:00:00    4.490458\n",
       "Name: evspsblpot, Length: 93, dtype: float64"
      ]
     },
     "execution_count": 18,
     "metadata": {},
     "output_type": "execute_result"
    }
   ],
   "source": [
    "filename = \"Derived_Makkink_evspsblpot.nc\"  # Update the path to the correct location of the file\n",
    "# Read the NetCDF file\n",
    "dsEP = xr.open_dataset(filename)\n",
    "# Convert to a pandas DataFrame\n",
    "dfEP = dsEP.to_dataframe()\n",
    "# Reset the index if needed\n",
    "dfEP.reset_index(inplace=True)\n",
    "EP = dfEP['evspsblpot']  # Evapotranspiration data\n",
    "EP.index = pd.to_datetime(dfEP['time'])\n",
    "EP = EP*86400  # Convert from mm/s to mm/day)\n",
    "EP[EP < 0] = 0  # Set negative values to zero\n",
    "EP.loc[EP.index.month == 8]"
   ]
  },
  {
   "cell_type": "code",
   "execution_count": 19,
   "metadata": {},
   "outputs": [
    {
     "data": {
      "text/html": [
       "<div>\n",
       "<style scoped>\n",
       "    .dataframe tbody tr th:only-of-type {\n",
       "        vertical-align: middle;\n",
       "    }\n",
       "\n",
       "    .dataframe tbody tr th {\n",
       "        vertical-align: top;\n",
       "    }\n",
       "\n",
       "    .dataframe thead th {\n",
       "        text-align: right;\n",
       "    }\n",
       "</style>\n",
       "<table border=\"1\" class=\"dataframe\">\n",
       "  <thead>\n",
       "    <tr style=\"text-align: right;\">\n",
       "      <th></th>\n",
       "      <th>Q</th>\n",
       "    </tr>\n",
       "    <tr>\n",
       "      <th>Date</th>\n",
       "      <th></th>\n",
       "    </tr>\n",
       "  </thead>\n",
       "  <tbody>\n",
       "    <tr>\n",
       "      <th>1946-10-01</th>\n",
       "      <td>0.126604</td>\n",
       "    </tr>\n",
       "    <tr>\n",
       "      <th>1946-10-02</th>\n",
       "      <td>0.123790</td>\n",
       "    </tr>\n",
       "    <tr>\n",
       "      <th>1946-10-03</th>\n",
       "      <td>0.118163</td>\n",
       "    </tr>\n",
       "    <tr>\n",
       "      <th>1946-10-04</th>\n",
       "      <td>0.115350</td>\n",
       "    </tr>\n",
       "    <tr>\n",
       "      <th>1946-10-05</th>\n",
       "      <td>0.111331</td>\n",
       "    </tr>\n",
       "    <tr>\n",
       "      <th>...</th>\n",
       "      <td>...</td>\n",
       "    </tr>\n",
       "    <tr>\n",
       "      <th>2017-09-26</th>\n",
       "      <td>0.042282</td>\n",
       "    </tr>\n",
       "    <tr>\n",
       "      <th>2017-09-27</th>\n",
       "      <td>0.043327</td>\n",
       "    </tr>\n",
       "    <tr>\n",
       "      <th>2017-09-28</th>\n",
       "      <td>0.044331</td>\n",
       "    </tr>\n",
       "    <tr>\n",
       "      <th>2017-09-29</th>\n",
       "      <td>0.045135</td>\n",
       "    </tr>\n",
       "    <tr>\n",
       "      <th>2017-09-30</th>\n",
       "      <td>0.042965</td>\n",
       "    </tr>\n",
       "  </tbody>\n",
       "</table>\n",
       "<p>25933 rows × 1 columns</p>\n",
       "</div>"
      ],
      "text/plain": [
       "                   Q\n",
       "Date                \n",
       "1946-10-01  0.126604\n",
       "1946-10-02  0.123790\n",
       "1946-10-03  0.118163\n",
       "1946-10-04  0.115350\n",
       "1946-10-05  0.111331\n",
       "...              ...\n",
       "2017-09-26  0.042282\n",
       "2017-09-27  0.043327\n",
       "2017-09-28  0.044331\n",
       "2017-09-29  0.045135\n",
       "2017-09-30  0.042965\n",
       "\n",
       "[25933 rows x 1 columns]"
      ]
     },
     "execution_count": 19,
     "metadata": {},
     "output_type": "execute_result"
    }
   ],
   "source": [
    "filename = \"6227510_Q_Day.Cmd.txt\"\n",
    "A = 21497*10**6 #m^2\n",
    "dfQ = pd.read_csv(filename, delimiter=\";\", skiprows=37, header=None, encoding='latin1')  # Specify encoding\n",
    "dfQ = dfQ[[0, 2]]  # Select only the first and third columns\n",
    "dfQ.columns = ['Date', 'Q']  # Rename columns for clarity\n",
    "dfQ['Date'] = pd.to_datetime(dfQ['Date'], format='%Y-%m-%d')  # Convert 'Date' column to datetime\n",
    "dfQ.set_index('Date', inplace=True)  # Set 'Date' as the index\n",
    "dfQ['Q'] = (dfQ['Q']/A)*(10**3)*86400 #mm/day\n",
    "dfQ "
   ]
  },
  {
   "cell_type": "code",
   "execution_count": 20,
   "metadata": {},
   "outputs": [
    {
     "data": {
      "text/html": [
       "<div>\n",
       "<style scoped>\n",
       "    .dataframe tbody tr th:only-of-type {\n",
       "        vertical-align: middle;\n",
       "    }\n",
       "\n",
       "    .dataframe tbody tr th {\n",
       "        vertical-align: top;\n",
       "    }\n",
       "\n",
       "    .dataframe thead th {\n",
       "        text-align: right;\n",
       "    }\n",
       "</style>\n",
       "<table border=\"1\" class=\"dataframe\">\n",
       "  <thead>\n",
       "    <tr style=\"text-align: right;\">\n",
       "      <th></th>\n",
       "      <th>Q</th>\n",
       "    </tr>\n",
       "    <tr>\n",
       "      <th>Date</th>\n",
       "      <th></th>\n",
       "    </tr>\n",
       "  </thead>\n",
       "  <tbody>\n",
       "    <tr>\n",
       "      <th>2010-01-01</th>\n",
       "      <td>0.061734</td>\n",
       "    </tr>\n",
       "    <tr>\n",
       "      <th>2010-01-02</th>\n",
       "      <td>0.061252</td>\n",
       "    </tr>\n",
       "    <tr>\n",
       "      <th>2010-01-03</th>\n",
       "      <td>0.059644</td>\n",
       "    </tr>\n",
       "    <tr>\n",
       "      <th>2010-01-04</th>\n",
       "      <td>0.066638</td>\n",
       "    </tr>\n",
       "    <tr>\n",
       "      <th>2010-01-05</th>\n",
       "      <td>0.066397</td>\n",
       "    </tr>\n",
       "    <tr>\n",
       "      <th>...</th>\n",
       "      <td>...</td>\n",
       "    </tr>\n",
       "    <tr>\n",
       "      <th>2012-12-27</th>\n",
       "      <td>0.068165</td>\n",
       "    </tr>\n",
       "    <tr>\n",
       "      <th>2012-12-28</th>\n",
       "      <td>0.066517</td>\n",
       "    </tr>\n",
       "    <tr>\n",
       "      <th>2012-12-29</th>\n",
       "      <td>0.065834</td>\n",
       "    </tr>\n",
       "    <tr>\n",
       "      <th>2012-12-30</th>\n",
       "      <td>0.065914</td>\n",
       "    </tr>\n",
       "    <tr>\n",
       "      <th>2012-12-31</th>\n",
       "      <td>0.065271</td>\n",
       "    </tr>\n",
       "  </tbody>\n",
       "</table>\n",
       "<p>1096 rows × 1 columns</p>\n",
       "</div>"
      ],
      "text/plain": [
       "                   Q\n",
       "Date                \n",
       "2010-01-01  0.061734\n",
       "2010-01-02  0.061252\n",
       "2010-01-03  0.059644\n",
       "2010-01-04  0.066638\n",
       "2010-01-05  0.066397\n",
       "...              ...\n",
       "2012-12-27  0.068165\n",
       "2012-12-28  0.066517\n",
       "2012-12-29  0.065834\n",
       "2012-12-30  0.065914\n",
       "2012-12-31  0.065271\n",
       "\n",
       "[1096 rows x 1 columns]"
      ]
     },
     "execution_count": 20,
     "metadata": {},
     "output_type": "execute_result"
    }
   ],
   "source": [
    "datemask = (dfQ.index.year >= 2010) & (dfQ.index.year < 2013)\n",
    "dfQ = dfQ[datemask]\n",
    "dfQ"
   ]
  },
  {
   "cell_type": "code",
   "execution_count": 21,
   "metadata": {},
   "outputs": [],
   "source": [
    "EP_mean = EP.mean()\n",
    "#EP2_mean = Water_balance['EP_2'].mean()\n",
    "#EP3_mean = Water_balance['EP_3'].mean()\n",
    "\n",
    "P_mean = prec.mean()\n",
    "#P2_mean = Water_balance['P_2'].mean()\n",
    "#P3_mean = Water_balance['P_3'].mean()\n",
    "\n",
    "Q_mean = dfQ['Q'].mean()\n",
    "#Q2_mean = Water_balance['Q_2'].mean()\n",
    "#Q3_mean = Water_balance['Q_3'].mean()\n",
    "\n",
    "EP1_P1 = EP_mean/P_mean\n",
    "#EP2_P2 = EP2_mean/P2_mean\n",
    "#EP3_P3 = EP3_mean/P3_mean\n",
    "\n",
    "EA1_P1 = 1- Q_mean/P_mean\n",
    "#EA2_P2 = 1- Q2_mean/P2_mean\n",
    "#EA3_P3 = 1- Q3_mean/P3_mean"
   ]
  },
  {
   "cell_type": "code",
   "execution_count": 22,
   "metadata": {},
   "outputs": [],
   "source": [
    "EA1_P1_Bud = (EP_mean/P_mean*np.tanh(1/(EP_mean/P_mean))*(1-np.exp(-EP_mean/P_mean)))**(0.5)\n",
    "#EA2_P2_Bud = (EP2_mean/P2_mean*np.tanh(1/(EP2_mean/P2_mean))*(1-np.exp(-EP2_mean/P2_mean)))**(0.5)\n",
    "#EA3_P3_Bud = (EP3_mean/P3_mean*np.tanh(1/(EP3_mean/P3_mean))*(1-np.exp(-EP3_mean/P3_mean)))**(0.5)"
   ]
  },
  {
   "cell_type": "code",
   "execution_count": 23,
   "metadata": {},
   "outputs": [
    {
     "data": {
      "image/png": "[encoded data removed]",
      "text/plain": [
       "<Figure size 640x480 with 1 Axes>"
      ]
     },
     "metadata": {},
     "output_type": "display_data"
    }
   ],
   "source": [
    "x = np.linspace(0,1,100)\n",
    "\n",
    "EP_P = np.linspace(0.1,5,100)\n",
    "EA_P_Bud = (EP_P*np.tanh(1/(EP_P))*(1-np.exp(-EP_P)))**(0.5)\n",
    "\n",
    "plt.scatter(EP1_P1, EA1_P1, label = 'Jucar', color = 'green')\n",
    "#plt.scatter(EP2_P2 , EA2_P2, label = 'C2')\n",
    "#plt.scatter(EP3_P3 , EA3_P3, label = 'C3')\n",
    "plt.scatter(EP1_P1, EA1_P1_Bud, label = ' Jucar Budyko', color = 'orange')\n",
    "#plt.scatter(EP2_P2 , EA2_P2_Bud, label = 'C2 Budkyo')\n",
    "#plt.scatter(EP3_P3 , EA3_P3_Bud, label = 'C3 Budkyo')\n",
    "plt.title('Budyko Framework')\n",
    "plt.ylabel('Evaporation fraction (EA/P)')\n",
    "plt.xlabel('Aridity index (EP/P)')\n",
    "plt.hlines(y = 1, xmin= 1, xmax= 5, label = 'water limit')\n",
    "plt.plot(x,x, color ='red', label = 'energy limit')\n",
    "plt.plot(EP_P, EA_P_Bud, color= 'yellow', label = 'Budyko curve')\n",
    "plt.legend()\n",
    "plt.show()"
   ]
  },
  {
   "cell_type": "code",
   "execution_count": 24,
   "metadata": {},
   "outputs": [
    {
     "name": "stdout",
     "output_type": "stream",
     "text": [
      "0.048998557473621696\n"
     ]
    }
   ],
   "source": [
    "EA1 = EA1_P1_Bud*P_mean\n",
    "#EA2 = EA2_P2_Bud*P2_mean\n",
    "#EA3 = EA3_P3_Bud*P3_mean\n",
    "\n",
    "Water_balance_C1 = P_mean - EA1 - Q_mean\n",
    "#Water_balance_C2 = P2_mean - EA2 - Q2_mean\n",
    "#Water_balance_C3 = P3_mean- EA3 - Q3_mean\n",
    "\n",
    "print(Water_balance_C1)\n",
    "#print(Water_balance_C2)\n",
    "#print(Water_balance_C3)"
   ]
  },
  {
   "cell_type": "code",
   "execution_count": 25,
   "metadata": {},
   "outputs": [
    {
     "data": {
      "image/png": "[encoded data removed]",
      "text/plain": [
       "<Figure size 640x480 with 1 Axes>"
      ]
     },
     "metadata": {},
     "output_type": "display_data"
    }
   ],
   "source": [
    "sorted_Q = dfQ['Q'].sort_values(ascending=False)\n",
    "rank1 = np.arange(len(sorted_Q))+1\n",
    "ecdf1 = rank1 / (len(sorted_Q)+1)\n",
    "\n",
    "\n",
    "plt.plot(ecdf1, sorted_Q, label='Catchment 1')\n",
    "plt.xlabel('Exceedance probability')\n",
    "plt.ylabel('Q')\n",
    "plt.legend()\n",
    "plt.yscale('log')"
   ]
  },
  {
   "cell_type": "code",
   "execution_count": 26,
   "metadata": {},
   "outputs": [
    {
     "data": {
      "text/plain": [
       "<matplotlib.legend.Legend at 0x28f479c88f0>"
      ]
     },
     "execution_count": 26,
     "metadata": {},
     "output_type": "execute_result"
    },
    {
     "data": {
      "image/png": "[encoded data removed]",
      "text/plain": [
       "<Figure size 640x480 with 1 Axes>"
      ]
     },
     "metadata": {},
     "output_type": "display_data"
    }
   ],
   "source": [
    "lags = np.arange(0, 30)\n",
    "autocorrelation1 = [dfQ['Q'].autocorr(lag = i) for i in lags]\n",
    "plt.stem(lags, autocorrelation1, label='Catchment 1')\n",
    "plt.xlabel('Lag')\n",
    "plt.ylabel('Autocorrelation')\n",
    "plt.legend()"
   ]
  },
  {
   "cell_type": "code",
   "execution_count": null,
   "metadata": {},
   "outputs": [],
   "source": []
  }
 ],
 "metadata": {
  "kernelspec": {
   "display_name": "mude-base",
   "language": "python",
   "name": "python3"
  },
  "language_info": {
   "codemirror_mode": {
    "name": "ipython",
    "version": 3
   },
   "file_extension": ".py",
   "mimetype": "text/x-python",
   "name": "python",
   "nbconvert_exporter": "python",
   "pygments_lexer": "ipython3",
   "version": "3.12.4"
  }
 },
 "nbformat": 4,
 "nbformat_minor": 2
}
