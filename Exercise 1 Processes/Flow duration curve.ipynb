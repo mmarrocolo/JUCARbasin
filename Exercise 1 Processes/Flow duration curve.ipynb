{
 "cells": [
  {
   "cell_type": "code",
   "execution_count": 1,
   "metadata": {},
   "outputs": [],
   "source": [
    "import numpy as np\n",
    "import pandas as pd\n",
    "import scipy.stats as stats\n",
    "import matplotlib.pyplot as plt"
   ]
  },
  {
   "cell_type": "code",
   "execution_count": 3,
   "metadata": {},
   "outputs": [
    {
     "data": {
      "text/html": [
       "<div>\n",
       "<style scoped>\n",
       "    .dataframe tbody tr th:only-of-type {\n",
       "        vertical-align: middle;\n",
       "    }\n",
       "\n",
       "    .dataframe tbody tr th {\n",
       "        vertical-align: top;\n",
       "    }\n",
       "\n",
       "    .dataframe thead th {\n",
       "        text-align: right;\n",
       "    }\n",
       "</style>\n",
       "<table border=\"1\" class=\"dataframe\">\n",
       "  <thead>\n",
       "    <tr style=\"text-align: right;\">\n",
       "      <th></th>\n",
       "      <th>Q_C1</th>\n",
       "      <th>Q_C2</th>\n",
       "    </tr>\n",
       "  </thead>\n",
       "  <tbody>\n",
       "    <tr>\n",
       "      <th>01/10/2001</th>\n",
       "      <td>0.11</td>\n",
       "      <td>0.54</td>\n",
       "    </tr>\n",
       "    <tr>\n",
       "      <th>02/10/2001</th>\n",
       "      <td>0.17</td>\n",
       "      <td>1.19</td>\n",
       "    </tr>\n",
       "    <tr>\n",
       "      <th>03/10/2001</th>\n",
       "      <td>0.48</td>\n",
       "      <td>0.48</td>\n",
       "    </tr>\n",
       "    <tr>\n",
       "      <th>04/10/2001</th>\n",
       "      <td>0.13</td>\n",
       "      <td>0.45</td>\n",
       "    </tr>\n",
       "    <tr>\n",
       "      <th>05/10/2001</th>\n",
       "      <td>0.09</td>\n",
       "      <td>0.44</td>\n",
       "    </tr>\n",
       "    <tr>\n",
       "      <th>06/10/2001</th>\n",
       "      <td>0.09</td>\n",
       "      <td>0.61</td>\n",
       "    </tr>\n",
       "    <tr>\n",
       "      <th>07/10/2001</th>\n",
       "      <td>0.17</td>\n",
       "      <td>1.22</td>\n",
       "    </tr>\n",
       "    <tr>\n",
       "      <th>08/10/2001</th>\n",
       "      <td>0.76</td>\n",
       "      <td>0.48</td>\n",
       "    </tr>\n",
       "    <tr>\n",
       "      <th>09/10/2001</th>\n",
       "      <td>0.34</td>\n",
       "      <td>0.47</td>\n",
       "    </tr>\n",
       "    <tr>\n",
       "      <th>10/10/2001</th>\n",
       "      <td>0.21</td>\n",
       "      <td>0.45</td>\n",
       "    </tr>\n",
       "  </tbody>\n",
       "</table>\n",
       "</div>"
      ],
      "text/plain": [
       "            Q_C1  Q_C2\n",
       "01/10/2001  0.11  0.54\n",
       "02/10/2001  0.17  1.19\n",
       "03/10/2001  0.48  0.48\n",
       "04/10/2001  0.13  0.45\n",
       "05/10/2001  0.09  0.44\n",
       "06/10/2001  0.09  0.61\n",
       "07/10/2001  0.17  1.22\n",
       "08/10/2001  0.76  0.48\n",
       "09/10/2001  0.34  0.47\n",
       "10/10/2001  0.21  0.45"
      ]
     },
     "execution_count": 3,
     "metadata": {},
     "output_type": "execute_result"
    }
   ],
   "source": [
    "filename = 'Flow duration curve data.csv'\n",
    "\n",
    "data = pd.read_csv(filename, skiprows=1, index_col=[0], parse_dates=True, sep=';')\n",
    "data.columns = ['Q_C1', 'Q_C2'] \n",
    "for col in data.columns[0:]: \n",
    "    data[col] = data[col].str.replace(',', '.').astype(float)\n",
    "data.head(10)"
   ]
  },
  {
   "cell_type": "code",
   "execution_count": 9,
   "metadata": {},
   "outputs": [
    {
     "name": "stdout",
     "output_type": "stream",
     "text": [
      "[   1    2    3 ... 1824 1825 1826]\n"
     ]
    },
    {
     "data": {
      "image/png": "[encoded data removed]",
      "text/plain": [
       "<Figure size 640x480 with 1 Axes>"
      ]
     },
     "metadata": {},
     "output_type": "display_data"
    }
   ],
   "source": [
    "n = len(data['Q_C1'])\n",
    "sorted_C1 = data['Q_C1'].sort_values(ascending=False)\n",
    "sorted_C2 = data['Q_C2'].sort_values(ascending=False)\n",
    "\n",
    "rank = np.arange(n) +1\n",
    "\n",
    "print(rank)\n",
    "\n",
    "ex_prob = rank/(n+1)\n",
    "\n",
    "plt.plot(ex_prob, sorted_C1, label = 'C1')\n",
    "plt.plot(ex_prob, sorted_C2, label = 'C2')\n",
    "plt.yscale('log')\n"
   ]
  }
 ],
 "metadata": {
  "kernelspec": {
   "display_name": "mude-week-2-5",
   "language": "python",
   "name": "python3"
  },
  "language_info": {
   "codemirror_mode": {
    "name": "ipython",
    "version": 3
   },
   "file_extension": ".py",
   "mimetype": "text/x-python",
   "name": "python",
   "nbconvert_exporter": "python",
   "pygments_lexer": "ipython3",
   "version": "3.12.8"
  }
 },
 "nbformat": 4,
 "nbformat_minor": 2
}
