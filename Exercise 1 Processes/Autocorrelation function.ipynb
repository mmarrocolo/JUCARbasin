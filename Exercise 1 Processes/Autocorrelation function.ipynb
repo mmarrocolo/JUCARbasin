{
 "cells": [
  {
   "cell_type": "code",
   "execution_count": 7,
   "metadata": {},
   "outputs": [],
   "source": [
    "import numpy as np\n",
    "import pandas as pd\n",
    "import scipy.stats as stats\n",
    "import matplotlib.pyplot as plt"
   ]
  },
  {
   "cell_type": "code",
   "execution_count": 8,
   "metadata": {},
   "outputs": [
    {
     "name": "stderr",
     "output_type": "stream",
     "text": [
      "C:\\Users\\Unieuro\\AppData\\Local\\Temp\\ipykernel_31728\\2319375266.py:3: UserWarning: Parsing dates in %d/%m/%Y format when dayfirst=False (the default) was specified. Pass `dayfirst=True` or specify a format to silence this warning.\n",
      "  data = pd.read_csv(filename, skiprows=1, index_col=[0], parse_dates=True, sep=';')\n"
     ]
    },
    {
     "data": {
      "text/html": [
       "<div>\n",
       "<style scoped>\n",
       "    .dataframe tbody tr th:only-of-type {\n",
       "        vertical-align: middle;\n",
       "    }\n",
       "\n",
       "    .dataframe tbody tr th {\n",
       "        vertical-align: top;\n",
       "    }\n",
       "\n",
       "    .dataframe thead th {\n",
       "        text-align: right;\n",
       "    }\n",
       "</style>\n",
       "<table border=\"1\" class=\"dataframe\">\n",
       "  <thead>\n",
       "    <tr style=\"text-align: right;\">\n",
       "      <th></th>\n",
       "      <th>Q_C1</th>\n",
       "      <th>Q_C2</th>\n",
       "    </tr>\n",
       "  </thead>\n",
       "  <tbody>\n",
       "    <tr>\n",
       "      <th>2001-10-27</th>\n",
       "      <td>0.81</td>\n",
       "      <td>0.19</td>\n",
       "    </tr>\n",
       "    <tr>\n",
       "      <th>2001-10-28</th>\n",
       "      <td>0.77</td>\n",
       "      <td>0.12</td>\n",
       "    </tr>\n",
       "    <tr>\n",
       "      <th>2001-10-29</th>\n",
       "      <td>0.60</td>\n",
       "      <td>0.15</td>\n",
       "    </tr>\n",
       "    <tr>\n",
       "      <th>2001-10-30</th>\n",
       "      <td>8.05</td>\n",
       "      <td>0.20</td>\n",
       "    </tr>\n",
       "    <tr>\n",
       "      <th>2001-10-31</th>\n",
       "      <td>15.64</td>\n",
       "      <td>0.20</td>\n",
       "    </tr>\n",
       "    <tr>\n",
       "      <th>2001-11-01</th>\n",
       "      <td>22.18</td>\n",
       "      <td>0.13</td>\n",
       "    </tr>\n",
       "    <tr>\n",
       "      <th>2001-11-02</th>\n",
       "      <td>16.73</td>\n",
       "      <td>0.09</td>\n",
       "    </tr>\n",
       "    <tr>\n",
       "      <th>2001-11-03</th>\n",
       "      <td>10.20</td>\n",
       "      <td>0.09</td>\n",
       "    </tr>\n",
       "    <tr>\n",
       "      <th>2001-11-04</th>\n",
       "      <td>8.19</td>\n",
       "      <td>0.09</td>\n",
       "    </tr>\n",
       "    <tr>\n",
       "      <th>2001-11-05</th>\n",
       "      <td>5.58</td>\n",
       "      <td>0.09</td>\n",
       "    </tr>\n",
       "  </tbody>\n",
       "</table>\n",
       "</div>"
      ],
      "text/plain": [
       "             Q_C1  Q_C2\n",
       "2001-10-27   0.81  0.19\n",
       "2001-10-28   0.77  0.12\n",
       "2001-10-29   0.60  0.15\n",
       "2001-10-30   8.05  0.20\n",
       "2001-10-31  15.64  0.20\n",
       "2001-11-01  22.18  0.13\n",
       "2001-11-02  16.73  0.09\n",
       "2001-11-03  10.20  0.09\n",
       "2001-11-04   8.19  0.09\n",
       "2001-11-05   5.58  0.09"
      ]
     },
     "execution_count": 8,
     "metadata": {},
     "output_type": "execute_result"
    }
   ],
   "source": [
    "filename = 'Autocorrelation function data.csv'\n",
    "\n",
    "data = pd.read_csv(filename, skiprows=1, index_col=[0], parse_dates=True, sep=';')\n",
    "data.columns = ['Q_C1', 'Q_C2'] \n",
    "for col in data.columns[0:]: \n",
    "    data[col] = data[col].str.replace(',', '.').astype(float)\n",
    "data.head(10)"
   ]
  },
  {
   "cell_type": "code",
   "execution_count": 9,
   "metadata": {},
   "outputs": [
    {
     "data": {
      "text/plain": [
       "<matplotlib.legend.Legend at 0x1ce13042de0>"
      ]
     },
     "execution_count": 9,
     "metadata": {},
     "output_type": "execute_result"
    },
    {
     "data": {
      "image/png": "[encoded data removed]",
      "text/plain": [
       "<Figure size 640x480 with 1 Axes>"
      ]
     },
     "metadata": {},
     "output_type": "display_data"
    }
   ],
   "source": [
    "lags = np.arange(30)\n",
    "\n",
    "autocorr1 =pd.Series()\n",
    "autocorr1 = [data['Q_C1'].autocorr(lag = lag) for lag in lags]\n",
    "\n",
    "autocorr2 =pd.Series()\n",
    "autocorr2 = [data['Q_C2'].autocorr(lag = i) for i in lags]\n",
    "\n",
    "plt.plot(lags, autocorr1, label = ' Catchment 1')\n",
    "plt.plot(lags, autocorr2, label = 'Catchment 2')\n",
    "plt.legend()\n"
   ]
  }
 ],
 "metadata": {
  "kernelspec": {
   "display_name": "mude-week-2-5",
   "language": "python",
   "name": "python3"
  },
  "language_info": {
   "codemirror_mode": {
    "name": "ipython",
    "version": 3
   },
   "file_extension": ".py",
   "mimetype": "text/x-python",
   "name": "python",
   "nbconvert_exporter": "python",
   "pygments_lexer": "ipython3",
   "version": "3.12.8"
  }
 },
 "nbformat": 4,
 "nbformat_minor": 2
}
