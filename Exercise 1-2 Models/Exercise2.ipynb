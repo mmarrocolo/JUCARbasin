{
 "cells": [
  {
   "cell_type": "code",
   "execution_count": 1,
   "metadata": {
    "editable": true,
    "slideshow": {
     "slide_type": ""
    },
    "tags": [
     "thebe-remove-input-init",
     "thebe-init"
    ]
   },
   "outputs": [
    {
     "name": "stdout",
     "output_type": "stream",
     "text": [
      "Requirement already satisfied: plotly in c:\\users\\margh\\anaconda3\\envs\\mude-base\\lib\\site-packages (6.0.1)\n",
      "Requirement already satisfied: narwhals>=1.15.1 in c:\\users\\margh\\anaconda3\\envs\\mude-base\\lib\\site-packages (from plotly) (1.33.0)\n",
      "Requirement already satisfied: packaging in c:\\users\\margh\\anaconda3\\envs\\mude-base\\lib\\site-packages (from plotly) (24.1)\n",
      "Note: you may need to restart the kernel to use updated packages.\n"
     ]
    }
   ],
   "source": [
    "import numpy as np\n",
    "import pandas as pd\n",
    "import matplotlib.pyplot as plt\n",
    "from ipywidgets import interact, FloatSlider, IntSlider\n",
    "from datetime import date\n",
    "# Install the missing module\n",
    "%pip install plotly\n",
    "import plotly.graph_objects as go\n",
    "\n",
    "# Mock implementation of Weigfun if the module is not available\n",
    "def Weigfun(T_lag):\n",
    "\t# Replace this with the actual implementation if available\n",
    "\treturn np.ones(int(T_lag)) / T_lag"
   ]
  },
  {
   "cell_type": "markdown",
   "metadata": {
    "editable": true,
    "slideshow": {
     "slide_type": ""
    },
    "tags": []
   },
   "source": [
    "`````{admonition} Interactive Python Page\n",
    ":class: tip, dropdown\n",
    "\n",
    "The code on this page can be used interactively: click {fa}`rocket` --> {guilabel}`Live Code` in the top right corner, then wait until the message {guilabel}`Python interaction ready!` appears.\n",
    "\n",
    "When this page is activated:\n",
    "- Several packages will be imported automatically\n",
    "- Code cells will **not** be executed automatically (you do it!)\n",
    "\n",
    "````{admonition} Which packages are imported when this page is activated?\n",
    ":class: note, dropdown\n",
    "```\n",
    "import numpy as np\n",
    "import pandas as pd\n",
    "import matplotlib.pyplot as plt\n",
    "from ipywidgets import interact, FloatSlider, IntSlider\n",
    "from datetime import date\n",
    "from plot_hydrograph import plot_hydrograph, interactive_plot\n",
    "from Weigfun import Weigfun```\n",
    "````\n",
    "`````"
   ]
  },
  {
   "cell_type": "markdown",
   "metadata": {
    "editable": true,
    "slideshow": {
     "slide_type": ""
    },
    "tags": []
   },
   "source": [
    "# Models Exercise 2: Lumped Conceptual Model\n",
    "\n",
    "In this exercise you will create a lumped conceptual model. In the figure below a schematization of the conceptual model is given.\n",
    "\n",
    "\n",
    "![image.png](figures/lumped_model.png)"
   ]
  },
  {
   "cell_type": "markdown",
   "metadata": {
    "editable": true,
    "slideshow": {
     "slide_type": ""
    },
    "tags": []
   },
   "source": [
    "## Part 1\n",
    "\n",
    "Write down all the different parts of the water balance with the correct units. Make use of the lecture slides and the equations and statements below.   \n",
    "\n",
    "Water can evaporate from the interception reservoir at the potential rate E$_p$. \n",
    "\n",
    "Water can spill from the reservoir when the level S$_i$ reaches I$_{max}$ (mm). \n",
    "\n",
    "P$_e$ is partitioned into P$_i$ and P$_f$ according to C$_r$, calculated as: \n",
    "\n",
    "$Cr=(S_u/S_{umax})^{\\beta}$\n",
    "\n",
    "Resulting for the fast storage: $Q_{uf} = C_r*P_e$; \n",
    "\n",
    "From which it can flow out: $Q_f=K_f*S_f$; \n",
    "\n",
    "For the underground storage holds: $Q_{iu} =(1-C_r)*P_e$. \n",
    "\n",
    "From here it can evaporate following: $E_a=S_u/(S_{umax}*C_e)*E_p$; \n",
    "\n",
    "Or it can percolate further into the ground: $Q_{us} =P_{max}*(S_u/S_{umax})$; \n",
    "\n",
    "From this storage it can flow out: $Q_s=K_s*S_s$. \n",
    "\n",
    "Q$_f$ and Q$_s$ are summed and routed through the triangular transfer function with base T$_{lag}$"
   ]
  },
  {
   "cell_type": "markdown",
   "metadata": {
    "editable": true,
    "slideshow": {
     "slide_type": ""
    },
    "tags": []
   },
   "source": [
    "## Part 2 Create HBV model\n",
    "\n",
    "In this part you will code the lumped model, which is also called the HBV-model. Below the function ```HBVMod``` is given, but as you can see, part of the function is unfinished. Only edit the part below the statement ```UPDATE THE PART BELOW``` and above ```END```. \n",
    "\n",
    "After you finish this function, you can plot the hydrograph and see if the function is correct. The plot is interactive, use the sliders to change a parameter and see what their effect is."
   ]
  },
  {
   "cell_type": "code",
   "execution_count": 2,
   "metadata": {},
   "outputs": [],
   "source": [
    "def HBVMod(Par,forcing,S_in, hydrograph):\n",
    "    # HBVpareto Calculates values of 3 objective functions for HBV model\n",
    "\n",
    "    I_max = Par[0]\n",
    "    Ce = Par[1]\n",
    "    Su_max = Par[2]\n",
    "    beta = Par[3]\n",
    "    P_max = Par[4]\n",
    "    T_lag = Par[5]\n",
    "    Kf = Par[6]\n",
    "    Ks = Par[7]\n",
    "    \n",
    "\n",
    "    Prec = forcing['P'].values\n",
    "    Qo = forcing['Q'].values\n",
    "    Etp = forcing['PE'].values\n",
    "\n",
    "\n",
    "    t_max = len(Prec)\n",
    "    \n",
    "    # Allocate Si, Su, Sf, Ss, Ei_dt, Ea_dt, Q_tot_dt\n",
    "    \n",
    "    Si = np.zeros(t_max)\n",
    "    Su = np.zeros(t_max)\n",
    "    Sf = np.zeros(t_max)\n",
    "    Ss = np.zeros(t_max)\n",
    "    Ei_dt = np.zeros(t_max)\n",
    "    Ea_dt =  np.zeros(t_max)\n",
    "    Q_tot_dt = np.zeros(t_max)\n",
    "    Qs = np.zeros(t_max)\n",
    "    Qf = np.zeros(t_max)\n",
    "    \n",
    "    # Initialize Si, Su, Sf, Ss\n",
    "    Si[0] = S_in[0]\n",
    "    Su[0] = S_in[1]\n",
    "    Sf[0] = S_in[2]\n",
    "    Ss[0] = S_in[3]\n",
    "\n",
    "    dt = 1\n",
    "\n",
    "    for i in range(0, t_max):\n",
    "        P_dt = Prec[i] * dt\n",
    "        Ep_dt = Etp[i] * dt\n",
    "        \n",
    "        # Interception Reservoir\n",
    "        if P_dt > 0:\n",
    "            Si[i] = Si[i] + P_dt \n",
    "            Pe_dt = np.maximum(0, (Si[i] - I_max) / dt)\n",
    "            Si[i] = Si[i] - Pe_dt\n",
    "            Ei_dt[i] = 0\n",
    "        else:\n",
    "        # Evaporation only when there is no rainfall\n",
    "            Pe_dt = np.maximum(0, (Si[i] - I_max) / dt) #is zero, because of no rainfall\n",
    "            Ei_dt[i] = np.minimum(Ep_dt, Si[i] / dt)\n",
    "            Si[i] = Si[i] - Pe_dt - Ei_dt[i]\n",
    "        \n",
    "        if i < t_max-1:\n",
    "            Si[i+1] = Si[i]\n",
    "        \n",
    "        \n",
    "        # Split Pe into Unsaturated Reservoir and Preferential Reservoir\n",
    "        if Pe_dt > 0:\n",
    "            Cr = (Su[i] / Su_max) ** beta\n",
    "            Qiu_dt = (1 - Cr) * Pe_dt # flux from Ir to Ur\n",
    "            Su[i] = Su[i] + Qiu_dt\n",
    "            Quf_dt = Cr * Pe_dt #flux from Su to Sf\n",
    "        else:\n",
    "            Quf_dt = 0\n",
    "        \n",
    "        # Transpiration\n",
    "        Ep_dt = max(0, Ep_dt - Ei_dt[i])\n",
    "        Ea_dt[i] = Ep_dt * (Su[i] / (Su_max * Ce))\n",
    "        Ea_dt[i] = min(Su[i] / dt, Ea_dt[i])\n",
    "        Su[i] = Su[i] - Ea_dt[i]\n",
    "        \n",
    "        # Percolation\n",
    "        Qus_dt = P_max * (Su[i] / Su_max) * dt  # Flux from Su to Ss\n",
    "        Su[i] = Su[i] - Qus_dt\n",
    "        \n",
    "        if i < t_max - 1:\n",
    "            Su[i+1] = Su[i]\n",
    "        \n",
    "        # Fast Reservoir\n",
    "        Sf[i] = Sf[i] + Quf_dt\n",
    "        Qf_dt = dt * Kf * Sf[i]\n",
    "        Sf[i] = Sf[i] - Qf_dt\n",
    "        if i < t_max-1:\n",
    "            Sf[i+1] = Sf[i]\n",
    "        \n",
    "        # Slow Reservoir\n",
    "        Ss[i] = Ss[i] + Qus_dt\n",
    "        Qs_dt = dt * Ks * Ss[i]\n",
    "        Ss[i] = Ss[i] - Qs_dt\n",
    "        if i < t_max-1:\n",
    "            Ss[i+1] = Ss[i]\n",
    "        \n",
    "        Q_tot_dt[i] = Qs_dt + Qf_dt\n",
    "        Qs[i] = Qs_dt \n",
    "        Qf[i] = Qf_dt \n",
    "\n",
    "\n",
    "    # Check Water Balance\n",
    "    Sf = Si[-1] + Ss[-1] + Sf[-1] + Su[-1]  # final storage\n",
    "    S_in = sum(S_in)  # initial storage\n",
    "    WB = sum(Prec) - sum(Ei_dt) - sum(Ea_dt) - sum(Q_tot_dt) - Sf + S_in\n",
    "    # print(WB)\n",
    "    # Offset Q\n",
    "\n",
    "    Weigths = Weigfun(T_lag)\n",
    "    \n",
    "    Qm = np.convolve(Q_tot_dt, Weigths)\n",
    "    Qm = Qm[0:t_max]\n",
    "    forcing['Qm'] = Qm\n",
    "   \n",
    "    if hydrograph == 'TRUE':\n",
    "    ## Plot\n",
    "    # hour=1:t_max\\\n",
    "        fig, ax = plt.subplots(figsize=(12,8))\n",
    "        forcing['Q'].plot(label='Obserbed', ax=ax)\n",
    "        forcing['Qm'].plot(label='Model',  ax=ax)\n",
    "        ax.legend()\n",
    "        \n",
    "\n",
    "    return Qm\n",
    "\n",
    "    "
   ]
  },
  {
   "cell_type": "markdown",
   "metadata": {
    "editable": true,
    "slideshow": {
     "slide_type": ""
    },
    "tags": []
   },
   "source": [
    "Before we can compute the discharge based on your model, we need to import the forcing data from the text file into a dataframe. "
   ]
  },
  {
   "cell_type": "code",
   "execution_count": 4,
   "metadata": {
    "editable": true,
    "slideshow": {
     "slide_type": ""
    },
    "tags": []
   },
   "outputs": [
    {
     "name": "stdout",
     "output_type": "stream",
     "text": [
      "                   P        PE         Q\n",
      "2000-01-01  0.004437  1.156963  0.000000\n",
      "2000-01-02  0.000000  1.175265  0.082691\n",
      "2000-01-03  0.020500  1.067080  0.079740\n",
      "2000-01-04  0.000000  1.165309  0.077725\n",
      "2000-01-05  0.000000  1.169341  0.073602\n"
     ]
    },
    {
     "name": "stderr",
     "output_type": "stream",
     "text": [
      "C:\\Users\\margh\\AppData\\Local\\Temp\\ipykernel_91848\\955227733.py:29: FutureWarning: The 'delim_whitespace' keyword in pd.read_csv is deprecated and will be removed in a future version. Use ``sep='\\s+'`` instead\n",
      "  df = pd.read_csv(filepath, delim_whitespace=True, skiprows=1, header=None, encoding='latin1')\n",
      "C:\\Users\\margh\\AppData\\Local\\Temp\\ipykernel_91848\\955227733.py:35: FutureWarning: ChainedAssignmentError: behaviour will change in pandas 3.0!\n",
      "You are setting values through chained assignment. Currently this works in certain cases, but when using Copy-on-Write (which will become the default behaviour in pandas 3.0) this will never work to update the original DataFrame or Series, because the intermediate object on which we are setting values will behave as a copy.\n",
      "A typical example is when you are setting values in a column of a DataFrame, like:\n",
      "\n",
      "df[\"col\"][row_indexer] = value\n",
      "\n",
      "Use `df.loc[row_indexer, \"col\"] = values` instead, to perform the assignment in a single step and ensure this keeps updating the original `df`.\n",
      "\n",
      "See the caveats in the documentation: https://pandas.pydata.org/pandas-docs/stable/user_guide/indexing.html#returning-a-view-versus-a-copy\n",
      "\n",
      "  df['Q'][df['Q'] < 0] = np.nan\n"
     ]
    }
   ],
   "source": [
    "import xarray as xr\n",
    "# --- 1. Load Precipitation Data (NetCDF) ---\n",
    "def load_precipitation(filepath):\n",
    "    ds = xr.open_dataset(filepath)\n",
    "    df = ds.to_dataframe().reset_index()\n",
    "    df = df[df['bnds'] == 0]  # Filter to keep valid bounds\n",
    "    df.index = pd.to_datetime(df['time'])\n",
    "    df.index = df.index.normalize()  # Set index to Timestamp (no time component)\n",
    "    df = df.drop(columns=['time', 'bnds'])\n",
    "    prec = df['pr'] * 86400  # Convert from m/s to mm/day\n",
    "    prec[prec < 0] = np.nan  # Handle negative values\n",
    "    return prec\n",
    "\n",
    "prec = load_precipitation(\"OBS6_ERA5_reanaly_1_day_pr_2000-2018_newbasin.nc\")\n",
    "\n",
    "# --- 2. Load Potential Evapotranspiration (NetCDF) ---\n",
    "def load_evapotranspiration(filepath):\n",
    "    ds = xr.open_dataset(filepath)\n",
    "    df = ds.to_dataframe().reset_index()\n",
    "    df.index = pd.to_datetime(df['time'])\n",
    "    df.index = df.index.normalize()\n",
    "    ep = df['evspsblpot'] * 86400  # Convert from mm/s to mm/day\n",
    "    ep[ep < 0] = np.nan\n",
    "    return ep\n",
    "EP = load_evapotranspiration(\"Derived_Makkink_evspsblpot_newbasin.nc\")\n",
    "\n",
    "# --- 3. Load Discharge Data (CSV) ---\n",
    "def load_discharge(filepath, basin_area):\n",
    "    df = pd.read_csv(filepath, delim_whitespace=True, skiprows=1, header=None, encoding='latin1')\n",
    "    df = df[[0, 3]]  # Keep only date and Q columns\n",
    "    df.columns = ['Date', 'Q']\n",
    "    df['Date'] = pd.to_datetime(df['Date'], format='%Y-%m-%d')\n",
    "    df.set_index('Date', inplace=True)\n",
    "    df['Q'] = (df['Q'] / basin_area) * 1e3  # Convert to mm/day\n",
    "    df['Q'][df['Q'] < 0] = np.nan\n",
    "    return df['Q']\n",
    "\n",
    "A = 17002.553 *10**6 #m^2\n",
    "dfQ = load_discharge(\"Upstream_Q.txt\", A)\n",
    "\n",
    "# --- 4. Align Time Series (2000-2017) ---\n",
    "def align_data(prec, EP, Q, start_year=2000):\n",
    "    # Filter by date range\n",
    "    prec = prec[(prec.index.year >= start_year)]\n",
    "    EP = EP[(EP.index.year >= start_year)]\n",
    "    Q = Q[(Q.index.year >= start_year)]\n",
    "    # Merge into a single DataFrame\n",
    "    aligned_data = pd.concat([prec, EP, Q], axis=1, join='inner')\n",
    "    aligned_data.columns = ['P', 'PE', 'Q']\n",
    "    return aligned_data\n",
    "\n",
    "forcing= align_data(prec, EP, dfQ)\n",
    "# Drop rows where any column has a NaN value\n",
    "forcing = forcing.dropna()\n",
    "print(forcing.head())"
   ]
  },
  {
   "cell_type": "markdown",
   "metadata": {
    "editable": true,
    "slideshow": {
     "slide_type": ""
    },
    "tags": []
   },
   "source": [
    "To create an interactive plot, the sets with minimum and maximum parameters should be given. If you want you can change these values. \n",
    "\n",
    "If you run the cell below, an interactive plot will be generated. In this plot you can change the values of the different parameters, play with the values and see their effect on the hydrograph and the NSE value. How many times did you change the parameters to get a reasonable NSE value?\n",
    "\n",
    "**Before you close this exercise: the function ```HBVMod``` you fixed above is required as an input for the first eWatercycle exercise. If you close your browser you loose what you have made. So: before you close this window, copy - paste your ```HBVMod``` function into a local text file on your computer!**"
   ]
  },
  {
   "cell_type": "code",
   "execution_count": 5,
   "metadata": {
    "editable": true,
    "slideshow": {
     "slide_type": ""
    },
    "tags": []
   },
   "outputs": [],
   "source": [
    "params = {\n",
    "    'I_max': {'min': 0, 'max': 10},\n",
    "    'Ce': {'min': 0.1, 'max': 1},\n",
    "    'Su_max': {'min': 40, 'max': 800},\n",
    "    'beta': {'min': 0.5, 'max': 5},\n",
    "    'P_max': {'min': 0.001, 'max': 0.3},\n",
    "    'T_lag': {'min': 1, 'max': 10},\n",
    "    'Kf': {'min': 0.01, 'max': 0.1},\n",
    "    'Ks': {'min': 0.0001, 'max': 0.01},\n",
    "}\n"
   ]
  },
  {
   "cell_type": "code",
   "execution_count": 12,
   "metadata": {},
   "outputs": [],
   "source": [
    "import pandas as pd\n",
    "import plotly.graph_objects as go\n",
    "\n",
    "def plot_interactive_hydrograph(df, observed_col='Observed', simulated_col='Simulated', time_col='Date'):\n",
    "    \"\"\"\n",
    "    Plot interactive hydrograph with Plotly.\n",
    "\n",
    "    Parameters:\n",
    "    - df: DataFrame with datetime and discharge data\n",
    "    - observed_col: name of the observed discharge column\n",
    "    - simulated_col: name of the simulated/model discharge column\n",
    "    - time_col: name of the datetime column\n",
    "    \"\"\"\n",
    "    fig = go.Figure()\n",
    "\n",
    "    if observed_col in df.columns:\n",
    "        fig.add_trace(go.Scatter(\n",
    "            x = df[time_col] if time_col else df.index,\n",
    "            y=df[observed_col],\n",
    "            mode='lines',\n",
    "            name='Observed',\n",
    "            line=dict(color='blue')\n",
    "        ))\n",
    "\n",
    "    if simulated_col in df.columns:\n",
    "        fig.add_trace(go.Scatter(\n",
    "            x = df[time_col] if time_col else df.index,\n",
    "            y=df[simulated_col],\n",
    "            mode='lines',\n",
    "            name='Simulated',\n",
    "            line=dict(color='red', dash='dash')\n",
    "        ))\n",
    "\n",
    "    fig.update_layout(\n",
    "        title='Interactive Hydrograph',\n",
    "        xaxis_title='Date',\n",
    "        yaxis_title='Discharge [m³/s]',\n",
    "        template='plotly_white',\n",
    "        hovermode='x unified',\n",
    "        legend=dict(x=0, y=1),\n",
    "        height=500\n",
    "    )\n",
    "\n",
    "    fig.show()\n"
   ]
  },
  {
   "cell_type": "code",
   "execution_count": 13,
   "metadata": {
    "editable": true,
    "slideshow": {
     "slide_type": ""
    },
    "tags": []
   },
   "outputs": [
    {
     "data": {
      "application/vnd.jupyter.widget-view+json": {
       "model_id": "781f7d7855e545dbaef8b0e557337805",
       "version_major": 2,
       "version_minor": 0
      },
      "text/plain": [
       "interactive(children=(FloatSlider(value=10.0, description='I_max', max=10.0), FloatSlider(value=1.0, descripti…"
      ]
     },
     "metadata": {},
     "output_type": "display_data"
    },
    {
     "data": {
      "text/plain": [
       "<function __main__.interactive_model_plot(I_max, Ce, Su_max, beta, P_max, T_lag, Kf, Ks)>"
      ]
     },
     "execution_count": 13,
     "metadata": {},
     "output_type": "execute_result"
    }
   ],
   "source": [
    "from ipywidgets import interact, FloatSlider\n",
    "\n",
    "def interactive_model_plot(I_max, Ce, Su_max, beta, P_max, T_lag, Kf, Ks):\n",
    "    # Update parameters\n",
    "    Par = [I_max, Ce, Su_max, beta, P_max, T_lag, Kf, Ks]\n",
    "    S_in = [0, 0, 0, 0]  # Initial storage values for Si, Su, Sf, Ss\n",
    "    # Recalculate the modeled discharge\n",
    "    Qm = HBVMod(Par=Par, forcing=forcing, S_in=S_in, hydrograph='FALSE')\n",
    "    \n",
    "    # Update the forcing DataFrame with the new modeled discharge\n",
    "    forcing['Qm'] = Qm\n",
    "    \n",
    "    # Plot the interactive hydrograph\n",
    "    plot_interactive_hydrograph(forcing, observed_col='Q', simulated_col='Qm', time_col=None)\n",
    "\n",
    "# Create interactive sliders for each parameter\n",
    "interact(\n",
    "    interactive_model_plot,\n",
    "    I_max=FloatSlider(min=params['I_max']['min'], max=params['I_max']['max'], step=0.1, value=params['I_max']['max']),\n",
    "    Ce=FloatSlider(min=params['Ce']['min'], max=params['Ce']['max'], step=0.01, value=params['Ce']['max']),\n",
    "    Su_max=FloatSlider(min=params['Su_max']['min'], max=params['Su_max']['max'], step=10, value=params['Su_max']['max']),\n",
    "    beta=FloatSlider(min=params['beta']['min'], max=params['beta']['max'], step=0.1, value=params['beta']['max']),\n",
    "    P_max=FloatSlider(min=params['P_max']['min'], max=params['P_max']['max'], step=0.001, value=params['P_max']['max']),\n",
    "    T_lag=FloatSlider(min=params['T_lag']['min'], max=params['T_lag']['max'], step=1, value=params['T_lag']['max']),\n",
    "    Kf=FloatSlider(min=params['Kf']['min'], max=params['Kf']['max'], step=0.001, value=params['Kf']['max']),\n",
    "    Ks=FloatSlider(min=params['Ks']['min'], max=params['Ks']['max'], step=0.0001, value=params['Ks']['max'])\n",
    ")"
   ]
  }
 ],
 "metadata": {
  "kernelspec": {
   "display_name": "mude-base",
   "language": "python",
   "name": "python3"
  },
  "language_info": {
   "codemirror_mode": {
    "name": "ipython",
    "version": 3
   },
   "file_extension": ".py",
   "mimetype": "text/x-python",
   "name": "python",
   "nbconvert_exporter": "python",
   "pygments_lexer": "ipython3",
   "version": "3.12.4"
  }
 },
 "nbformat": 4,
 "nbformat_minor": 4
}
