{
 "cells": [
  {
   "cell_type": "code",
   "execution_count": 8,
   "metadata": {
    "editable": true,
    "slideshow": {
     "slide_type": ""
    },
    "tags": [
     "thebe-remove-input-init",
     "thebe-init"
    ]
   },
   "outputs": [
    {
     "name": "stdout",
     "output_type": "stream",
     "text": [
      "Requirement already satisfied: plotly in c:\\users\\margh\\anaconda3\\envs\\mude-base\\lib\\site-packages (6.0.1)\n",
      "Requirement already satisfied: narwhals>=1.15.1 in c:\\users\\margh\\anaconda3\\envs\\mude-base\\lib\\site-packages (from plotly) (1.33.0)\n",
      "Requirement already satisfied: packaging in c:\\users\\margh\\anaconda3\\envs\\mude-base\\lib\\site-packages (from plotly) (24.1)\n",
      "Note: you may need to restart the kernel to use updated packages.\n"
     ]
    }
   ],
   "source": [
    "import numpy as np\n",
    "import pandas as pd\n",
    "import matplotlib.pyplot as plt\n",
    "from ipywidgets import interact, FloatSlider, IntSlider\n",
    "from datetime import date\n",
    "# Install the missing module\n",
    "%pip install plotly\n",
    "import plotly.graph_objects as go\n",
    "\n",
    "# Mock implementation of Weigfun if the module is not available\n",
    "def Weigfun(T_lag):\n",
    "\t# Replace this with the actual implementation if available\n",
    "\treturn np.ones(int(T_lag)) / T_lag"
   ]
  },
  {
   "cell_type": "markdown",
   "metadata": {
    "editable": true,
    "slideshow": {
     "slide_type": ""
    },
    "tags": []
   },
   "source": [
    "`````{admonition} Interactive Python Page\n",
    ":class: tip, dropdown\n",
    "\n",
    "The code on this page can be used interactively: click {fa}`rocket` --> {guilabel}`Live Code` in the top right corner, then wait until the message {guilabel}`Python interaction ready!` appears.\n",
    "\n",
    "When this page is activated:\n",
    "- Several packages will be imported automatically\n",
    "- Code cells will **not** be executed automatically (you do it!)\n",
    "\n",
    "````{admonition} Which packages are imported when this page is activated?\n",
    ":class: note, dropdown\n",
    "```\n",
    "import numpy as np\n",
    "import pandas as pd\n",
    "import matplotlib.pyplot as plt\n",
    "from ipywidgets import interact, FloatSlider, IntSlider\n",
    "from datetime import date\n",
    "from plot_hydrograph import plot_hydrograph, interactive_plot\n",
    "from Weigfun import Weigfun```\n",
    "````\n",
    "`````"
   ]
  },
  {
   "cell_type": "markdown",
   "metadata": {
    "editable": true,
    "slideshow": {
     "slide_type": ""
    },
    "tags": []
   },
   "source": [
    "# Models Exercise 2: Lumped Conceptual Model\n",
    "\n",
    "In this exercise you will create a lumped conceptual model. In the figure below a schematization of the conceptual model is given.\n",
    "\n",
    "\n",
    "![image.png](figures/lumped_model.png)"
   ]
  },
  {
   "cell_type": "markdown",
   "metadata": {
    "editable": true,
    "slideshow": {
     "slide_type": ""
    },
    "tags": []
   },
   "source": [
    "## Part 1\n",
    "\n",
    "Write down all the different parts of the water balance with the correct units. Make use of the lecture slides and the equations and statements below.   \n",
    "\n",
    "Water can evaporate from the interception reservoir at the potential rate E$_p$. \n",
    "\n",
    "Water can spill from the reservoir when the level S$_i$ reaches I$_{max}$ (mm). \n",
    "\n",
    "P$_e$ is partitioned into P$_i$ and P$_f$ according to C$_r$, calculated as: \n",
    "\n",
    "$Cr=(S_u/S_{umax})^{\\beta}$\n",
    "\n",
    "Resulting for the fast storage: $Q_{uf} = C_r*P_e$; \n",
    "\n",
    "From which it can flow out: $Q_f=K_f*S_f$; \n",
    "\n",
    "For the underground storage holds: $Q_{iu} =(1-C_r)*P_e$. \n",
    "\n",
    "From here it can evaporate following: $E_a=S_u/(S_{umax}*C_e)*E_p$; \n",
    "\n",
    "Or it can percolate further into the ground: $Q_{us} =P_{max}*(S_u/S_{umax})$; \n",
    "\n",
    "From this storage it can flow out: $Q_s=K_s*S_s$. \n",
    "\n",
    "Q$_f$ and Q$_s$ are summed and routed through the triangular transfer function with base T$_{lag}$"
   ]
  },
  {
   "cell_type": "markdown",
   "metadata": {
    "editable": true,
    "slideshow": {
     "slide_type": ""
    },
    "tags": []
   },
   "source": [
    "## Part 2 Create HBV model\n",
    "\n",
    "In this part you will code the lumped model, which is also called the HBV-model. Below the function ```HBVMod``` is given, but as you can see, part of the function is unfinished. Only edit the part below the statement ```UPDATE THE PART BELOW``` and above ```END```. \n",
    "\n",
    "After you finish this function, you can plot the hydrograph and see if the function is correct. The plot is interactive, use the sliders to change a parameter and see what their effect is."
   ]
  },
  {
   "cell_type": "code",
   "execution_count": 10,
   "metadata": {},
   "outputs": [],
   "source": [
    "def HBVMod(Par,forcing,S_in, hydrograph):\n",
    "    # HBVpareto Calculates values of 3 objective functions for HBV model\n",
    "\n",
    "    I_max = Par[0]\n",
    "    Ce = Par[1]\n",
    "    Su_max = Par[2]\n",
    "    beta = Par[3]\n",
    "    P_max = Par[4]\n",
    "    T_lag = Par[5]\n",
    "    Kf = Par[6]\n",
    "    Ks = Par[7]\n",
    "    \n",
    "\n",
    "    Prec = forcing['P'].values\n",
    "    Qo = forcing['Q'].values\n",
    "    Etp = forcing['PE'].values\n",
    "\n",
    "\n",
    "    t_max = len(Prec)\n",
    "    \n",
    "    # Allocate Si, Su, Sf, Ss, Ei_dt, Ea_dt, Q_tot_dt\n",
    "    \n",
    "    Si = np.zeros(t_max)\n",
    "    Su = np.zeros(t_max)\n",
    "    Sf = np.zeros(t_max)\n",
    "    Ss = np.zeros(t_max)\n",
    "    Ei_dt = np.zeros(t_max)\n",
    "    Ea_dt =  np.zeros(t_max)\n",
    "    Q_tot_dt = np.zeros(t_max)\n",
    "    Qs = np.zeros(t_max)\n",
    "    Qf = np.zeros(t_max)\n",
    "    \n",
    "    # Initialize Si, Su, Sf, Ss\n",
    "    Si[0] = S_in[0]\n",
    "    Su[0] = S_in[1]\n",
    "    Sf[0] = S_in[2]\n",
    "    Ss[0] = S_in[3]\n",
    "\n",
    "    dt = 1\n",
    "\n",
    "    for i in range(0, t_max):\n",
    "        P_dt = Prec[i] * dt\n",
    "        Ep_dt = Etp[i] * dt\n",
    "        \n",
    "        # Interception Reservoir\n",
    "        if P_dt > 0:\n",
    "            Si[i] = Si[i] + P_dt \n",
    "            Pe_dt = np.maximum(0, (Si[i] - I_max) / dt)\n",
    "            Si[i] = Si[i] - Pe_dt\n",
    "            Ei_dt[i] = 0\n",
    "        else:\n",
    "        # Evaporation only when there is no rainfall\n",
    "            Pe_dt = np.maximum(0, (Si[i] - I_max) / dt) #is zero, because of no rainfall\n",
    "            Ei_dt[i] = np.minimum(Ep_dt, Si[i] / dt)\n",
    "            Si[i] = Si[i] - Pe_dt - Ei_dt[i]\n",
    "        \n",
    "        if i < t_max-1:\n",
    "            Si[i+1] = Si[i]\n",
    "        \n",
    "        \n",
    "        # Split Pe into Unsaturated Reservoir and Preferential Reservoir\n",
    "        if Pe_dt > 0:\n",
    "            Cr = (Su[i] / Su_max) ** beta\n",
    "            Qiu_dt = (1 - Cr) * Pe_dt # flux from Ir to Ur\n",
    "            Su[i] = Su[i] + Qiu_dt\n",
    "            Quf_dt = Cr * Pe_dt #flux from Su to Sf\n",
    "        else:\n",
    "            Quf_dt = 0\n",
    "        \n",
    "        # Transpiration\n",
    "        Ep_dt = max(0, Ep_dt - Ei_dt[i])\n",
    "        Ea_dt[i] = Ep_dt * (Su[i] / (Su_max * Ce))\n",
    "        Ea_dt[i] = min(Su[i] / dt, Ea_dt[i])\n",
    "        Su[i] = Su[i] - Ea_dt[i]\n",
    "        \n",
    "        # Percolation\n",
    "        Qus_dt = P_max * (Su[i] / Su_max) * dt  # Flux from Su to Ss\n",
    "        Su[i] = Su[i] - Qus_dt\n",
    "        \n",
    "        if i < t_max - 1:\n",
    "            Su[i+1] = Su[i]\n",
    "        \n",
    "        # Fast Reservoir\n",
    "        Sf[i] = Sf[i] + Quf_dt\n",
    "        Qf_dt = dt * Kf * Sf[i]\n",
    "        Sf[i] = Sf[i] - Qf_dt\n",
    "        if i < t_max-1:\n",
    "            Sf[i+1] = Sf[i]\n",
    "        \n",
    "        # Slow Reservoir\n",
    "        Ss[i] = Ss[i] + Qus_dt\n",
    "        Qs_dt = dt * Ks * Ss[i]\n",
    "        Ss[i] = Ss[i] - Qs_dt\n",
    "        if i < t_max-1:\n",
    "            Ss[i+1] = Ss[i]\n",
    "        \n",
    "        Q_tot_dt[i] = Qs_dt + Qf_dt\n",
    "        Qs[i] = Qs_dt \n",
    "        Qf[i] = Qf_dt \n",
    "\n",
    "\n",
    "    # Check Water Balance\n",
    "    Sf = Si[-1] + Ss[-1] + Sf[-1] + Su[-1]  # final storage\n",
    "    S_in = sum(S_in)  # initial storage\n",
    "    WB = sum(Prec) - sum(Ei_dt) - sum(Ea_dt) - sum(Q_tot_dt) - Sf + S_in\n",
    "    # print(WB)\n",
    "    # Offset Q\n",
    "\n",
    "    Weigths = Weigfun(T_lag)\n",
    "    \n",
    "    Qm = np.convolve(Q_tot_dt, Weigths)\n",
    "    Qm = Qm[0:t_max]\n",
    "    forcing['Qm'] = Qm\n",
    "   \n",
    "    if hydrograph == 'TRUE':\n",
    "    ## Plot\n",
    "    # hour=1:t_max\\\n",
    "        fig, ax = plt.subplots(figsize=(12,8))\n",
    "        forcing['Q'].plot(label='Obserbed', ax=ax)\n",
    "        forcing['Qm'].plot(label='Model',  ax=ax)\n",
    "        ax.legend()\n",
    "        \n",
    "\n",
    "    return Qm\n",
    "\n",
    "    "
   ]
  },
  {
   "cell_type": "markdown",
   "metadata": {
    "editable": true,
    "slideshow": {
     "slide_type": ""
    },
    "tags": []
   },
   "source": [
    "Before we can compute the discharge based on your model, we need to import the forcing data from the text file into a dataframe. "
   ]
  },
  {
   "cell_type": "code",
   "execution_count": 11,
   "metadata": {
    "editable": true,
    "slideshow": {
     "slide_type": ""
    },
    "tags": []
   },
   "outputs": [
    {
     "ename": "FileNotFoundError",
     "evalue": "[Errno 2] No such file or directory: 'Forcing.txt'",
     "output_type": "error",
     "traceback": [
      "\u001b[1;31m---------------------------------------------------------------------------\u001b[0m",
      "\u001b[1;31mFileNotFoundError\u001b[0m                         Traceback (most recent call last)",
      "Cell \u001b[1;32mIn[11], line 1\u001b[0m\n\u001b[1;32m----> 1\u001b[0m data \u001b[38;5;241m=\u001b[39m pd\u001b[38;5;241m.\u001b[39mread_csv(\u001b[38;5;124m'\u001b[39m\u001b[38;5;124mForcing.txt\u001b[39m\u001b[38;5;124m'\u001b[39m, skipinitialspace\u001b[38;5;241m=\u001b[39m\u001b[38;5;28;01mTrue\u001b[39;00m, delimiter\u001b[38;5;241m=\u001b[39m\u001b[38;5;124m'\u001b[39m\u001b[38;5;130;01m\\t\u001b[39;00m\u001b[38;5;124m'\u001b[39m, names\u001b[38;5;241m=\u001b[39m[\u001b[38;5;124m'\u001b[39m\u001b[38;5;124myear\u001b[39m\u001b[38;5;124m'\u001b[39m, \u001b[38;5;124m'\u001b[39m\u001b[38;5;124mmonth\u001b[39m\u001b[38;5;124m'\u001b[39m, \u001b[38;5;124m'\u001b[39m\u001b[38;5;124mday\u001b[39m\u001b[38;5;124m'\u001b[39m, \u001b[38;5;124m'\u001b[39m\u001b[38;5;124mP\u001b[39m\u001b[38;5;124m'\u001b[39m, \u001b[38;5;124m'\u001b[39m\u001b[38;5;124mQ\u001b[39m\u001b[38;5;124m'\u001b[39m, \u001b[38;5;124m'\u001b[39m\u001b[38;5;124mPE\u001b[39m\u001b[38;5;124m'\u001b[39m])\n\u001b[0;32m      2\u001b[0m forcing \u001b[38;5;241m=\u001b[39m pd\u001b[38;5;241m.\u001b[39mDataFrame()\n\u001b[0;32m      3\u001b[0m forcing[\u001b[38;5;124m'\u001b[39m\u001b[38;5;124mP\u001b[39m\u001b[38;5;124m'\u001b[39m] \u001b[38;5;241m=\u001b[39m data[\u001b[38;5;124m'\u001b[39m\u001b[38;5;124mP\u001b[39m\u001b[38;5;124m'\u001b[39m]\n",
      "File \u001b[1;32mc:\\Users\\margh\\anaconda3\\envs\\mude-base\\Lib\\site-packages\\pandas\\io\\parsers\\readers.py:1026\u001b[0m, in \u001b[0;36mread_csv\u001b[1;34m(filepath_or_buffer, sep, delimiter, header, names, index_col, usecols, dtype, engine, converters, true_values, false_values, skipinitialspace, skiprows, skipfooter, nrows, na_values, keep_default_na, na_filter, verbose, skip_blank_lines, parse_dates, infer_datetime_format, keep_date_col, date_parser, date_format, dayfirst, cache_dates, iterator, chunksize, compression, thousands, decimal, lineterminator, quotechar, quoting, doublequote, escapechar, comment, encoding, encoding_errors, dialect, on_bad_lines, delim_whitespace, low_memory, memory_map, float_precision, storage_options, dtype_backend)\u001b[0m\n\u001b[0;32m   1013\u001b[0m kwds_defaults \u001b[38;5;241m=\u001b[39m _refine_defaults_read(\n\u001b[0;32m   1014\u001b[0m     dialect,\n\u001b[0;32m   1015\u001b[0m     delimiter,\n\u001b[1;32m   (...)\u001b[0m\n\u001b[0;32m   1022\u001b[0m     dtype_backend\u001b[38;5;241m=\u001b[39mdtype_backend,\n\u001b[0;32m   1023\u001b[0m )\n\u001b[0;32m   1024\u001b[0m kwds\u001b[38;5;241m.\u001b[39mupdate(kwds_defaults)\n\u001b[1;32m-> 1026\u001b[0m \u001b[38;5;28;01mreturn\u001b[39;00m _read(filepath_or_buffer, kwds)\n",
      "File \u001b[1;32mc:\\Users\\margh\\anaconda3\\envs\\mude-base\\Lib\\site-packages\\pandas\\io\\parsers\\readers.py:620\u001b[0m, in \u001b[0;36m_read\u001b[1;34m(filepath_or_buffer, kwds)\u001b[0m\n\u001b[0;32m    617\u001b[0m _validate_names(kwds\u001b[38;5;241m.\u001b[39mget(\u001b[38;5;124m\"\u001b[39m\u001b[38;5;124mnames\u001b[39m\u001b[38;5;124m\"\u001b[39m, \u001b[38;5;28;01mNone\u001b[39;00m))\n\u001b[0;32m    619\u001b[0m \u001b[38;5;66;03m# Create the parser.\u001b[39;00m\n\u001b[1;32m--> 620\u001b[0m parser \u001b[38;5;241m=\u001b[39m TextFileReader(filepath_or_buffer, \u001b[38;5;241m*\u001b[39m\u001b[38;5;241m*\u001b[39mkwds)\n\u001b[0;32m    622\u001b[0m \u001b[38;5;28;01mif\u001b[39;00m chunksize \u001b[38;5;129;01mor\u001b[39;00m iterator:\n\u001b[0;32m    623\u001b[0m     \u001b[38;5;28;01mreturn\u001b[39;00m parser\n",
      "File \u001b[1;32mc:\\Users\\margh\\anaconda3\\envs\\mude-base\\Lib\\site-packages\\pandas\\io\\parsers\\readers.py:1620\u001b[0m, in \u001b[0;36mTextFileReader.__init__\u001b[1;34m(self, f, engine, **kwds)\u001b[0m\n\u001b[0;32m   1617\u001b[0m     \u001b[38;5;28mself\u001b[39m\u001b[38;5;241m.\u001b[39moptions[\u001b[38;5;124m\"\u001b[39m\u001b[38;5;124mhas_index_names\u001b[39m\u001b[38;5;124m\"\u001b[39m] \u001b[38;5;241m=\u001b[39m kwds[\u001b[38;5;124m\"\u001b[39m\u001b[38;5;124mhas_index_names\u001b[39m\u001b[38;5;124m\"\u001b[39m]\n\u001b[0;32m   1619\u001b[0m \u001b[38;5;28mself\u001b[39m\u001b[38;5;241m.\u001b[39mhandles: IOHandles \u001b[38;5;241m|\u001b[39m \u001b[38;5;28;01mNone\u001b[39;00m \u001b[38;5;241m=\u001b[39m \u001b[38;5;28;01mNone\u001b[39;00m\n\u001b[1;32m-> 1620\u001b[0m \u001b[38;5;28mself\u001b[39m\u001b[38;5;241m.\u001b[39m_engine \u001b[38;5;241m=\u001b[39m \u001b[38;5;28mself\u001b[39m\u001b[38;5;241m.\u001b[39m_make_engine(f, \u001b[38;5;28mself\u001b[39m\u001b[38;5;241m.\u001b[39mengine)\n",
      "File \u001b[1;32mc:\\Users\\margh\\anaconda3\\envs\\mude-base\\Lib\\site-packages\\pandas\\io\\parsers\\readers.py:1880\u001b[0m, in \u001b[0;36mTextFileReader._make_engine\u001b[1;34m(self, f, engine)\u001b[0m\n\u001b[0;32m   1878\u001b[0m     \u001b[38;5;28;01mif\u001b[39;00m \u001b[38;5;124m\"\u001b[39m\u001b[38;5;124mb\u001b[39m\u001b[38;5;124m\"\u001b[39m \u001b[38;5;129;01mnot\u001b[39;00m \u001b[38;5;129;01min\u001b[39;00m mode:\n\u001b[0;32m   1879\u001b[0m         mode \u001b[38;5;241m+\u001b[39m\u001b[38;5;241m=\u001b[39m \u001b[38;5;124m\"\u001b[39m\u001b[38;5;124mb\u001b[39m\u001b[38;5;124m\"\u001b[39m\n\u001b[1;32m-> 1880\u001b[0m \u001b[38;5;28mself\u001b[39m\u001b[38;5;241m.\u001b[39mhandles \u001b[38;5;241m=\u001b[39m get_handle(\n\u001b[0;32m   1881\u001b[0m     f,\n\u001b[0;32m   1882\u001b[0m     mode,\n\u001b[0;32m   1883\u001b[0m     encoding\u001b[38;5;241m=\u001b[39m\u001b[38;5;28mself\u001b[39m\u001b[38;5;241m.\u001b[39moptions\u001b[38;5;241m.\u001b[39mget(\u001b[38;5;124m\"\u001b[39m\u001b[38;5;124mencoding\u001b[39m\u001b[38;5;124m\"\u001b[39m, \u001b[38;5;28;01mNone\u001b[39;00m),\n\u001b[0;32m   1884\u001b[0m     compression\u001b[38;5;241m=\u001b[39m\u001b[38;5;28mself\u001b[39m\u001b[38;5;241m.\u001b[39moptions\u001b[38;5;241m.\u001b[39mget(\u001b[38;5;124m\"\u001b[39m\u001b[38;5;124mcompression\u001b[39m\u001b[38;5;124m\"\u001b[39m, \u001b[38;5;28;01mNone\u001b[39;00m),\n\u001b[0;32m   1885\u001b[0m     memory_map\u001b[38;5;241m=\u001b[39m\u001b[38;5;28mself\u001b[39m\u001b[38;5;241m.\u001b[39moptions\u001b[38;5;241m.\u001b[39mget(\u001b[38;5;124m\"\u001b[39m\u001b[38;5;124mmemory_map\u001b[39m\u001b[38;5;124m\"\u001b[39m, \u001b[38;5;28;01mFalse\u001b[39;00m),\n\u001b[0;32m   1886\u001b[0m     is_text\u001b[38;5;241m=\u001b[39mis_text,\n\u001b[0;32m   1887\u001b[0m     errors\u001b[38;5;241m=\u001b[39m\u001b[38;5;28mself\u001b[39m\u001b[38;5;241m.\u001b[39moptions\u001b[38;5;241m.\u001b[39mget(\u001b[38;5;124m\"\u001b[39m\u001b[38;5;124mencoding_errors\u001b[39m\u001b[38;5;124m\"\u001b[39m, \u001b[38;5;124m\"\u001b[39m\u001b[38;5;124mstrict\u001b[39m\u001b[38;5;124m\"\u001b[39m),\n\u001b[0;32m   1888\u001b[0m     storage_options\u001b[38;5;241m=\u001b[39m\u001b[38;5;28mself\u001b[39m\u001b[38;5;241m.\u001b[39moptions\u001b[38;5;241m.\u001b[39mget(\u001b[38;5;124m\"\u001b[39m\u001b[38;5;124mstorage_options\u001b[39m\u001b[38;5;124m\"\u001b[39m, \u001b[38;5;28;01mNone\u001b[39;00m),\n\u001b[0;32m   1889\u001b[0m )\n\u001b[0;32m   1890\u001b[0m \u001b[38;5;28;01massert\u001b[39;00m \u001b[38;5;28mself\u001b[39m\u001b[38;5;241m.\u001b[39mhandles \u001b[38;5;129;01mis\u001b[39;00m \u001b[38;5;129;01mnot\u001b[39;00m \u001b[38;5;28;01mNone\u001b[39;00m\n\u001b[0;32m   1891\u001b[0m f \u001b[38;5;241m=\u001b[39m \u001b[38;5;28mself\u001b[39m\u001b[38;5;241m.\u001b[39mhandles\u001b[38;5;241m.\u001b[39mhandle\n",
      "File \u001b[1;32mc:\\Users\\margh\\anaconda3\\envs\\mude-base\\Lib\\site-packages\\pandas\\io\\common.py:873\u001b[0m, in \u001b[0;36mget_handle\u001b[1;34m(path_or_buf, mode, encoding, compression, memory_map, is_text, errors, storage_options)\u001b[0m\n\u001b[0;32m    868\u001b[0m \u001b[38;5;28;01melif\u001b[39;00m \u001b[38;5;28misinstance\u001b[39m(handle, \u001b[38;5;28mstr\u001b[39m):\n\u001b[0;32m    869\u001b[0m     \u001b[38;5;66;03m# Check whether the filename is to be opened in binary mode.\u001b[39;00m\n\u001b[0;32m    870\u001b[0m     \u001b[38;5;66;03m# Binary mode does not support 'encoding' and 'newline'.\u001b[39;00m\n\u001b[0;32m    871\u001b[0m     \u001b[38;5;28;01mif\u001b[39;00m ioargs\u001b[38;5;241m.\u001b[39mencoding \u001b[38;5;129;01mand\u001b[39;00m \u001b[38;5;124m\"\u001b[39m\u001b[38;5;124mb\u001b[39m\u001b[38;5;124m\"\u001b[39m \u001b[38;5;129;01mnot\u001b[39;00m \u001b[38;5;129;01min\u001b[39;00m ioargs\u001b[38;5;241m.\u001b[39mmode:\n\u001b[0;32m    872\u001b[0m         \u001b[38;5;66;03m# Encoding\u001b[39;00m\n\u001b[1;32m--> 873\u001b[0m         handle \u001b[38;5;241m=\u001b[39m \u001b[38;5;28mopen\u001b[39m(\n\u001b[0;32m    874\u001b[0m             handle,\n\u001b[0;32m    875\u001b[0m             ioargs\u001b[38;5;241m.\u001b[39mmode,\n\u001b[0;32m    876\u001b[0m             encoding\u001b[38;5;241m=\u001b[39mioargs\u001b[38;5;241m.\u001b[39mencoding,\n\u001b[0;32m    877\u001b[0m             errors\u001b[38;5;241m=\u001b[39merrors,\n\u001b[0;32m    878\u001b[0m             newline\u001b[38;5;241m=\u001b[39m\u001b[38;5;124m\"\u001b[39m\u001b[38;5;124m\"\u001b[39m,\n\u001b[0;32m    879\u001b[0m         )\n\u001b[0;32m    880\u001b[0m     \u001b[38;5;28;01melse\u001b[39;00m:\n\u001b[0;32m    881\u001b[0m         \u001b[38;5;66;03m# Binary mode\u001b[39;00m\n\u001b[0;32m    882\u001b[0m         handle \u001b[38;5;241m=\u001b[39m \u001b[38;5;28mopen\u001b[39m(handle, ioargs\u001b[38;5;241m.\u001b[39mmode)\n",
      "\u001b[1;31mFileNotFoundError\u001b[0m: [Errno 2] No such file or directory: 'Forcing.txt'"
     ]
    }
   ],
   "source": [
    "data = pd.read_csv('Forcing.txt', skipinitialspace=True, delimiter='\\t', names=['year', 'month', 'day', 'P', 'Q', 'PE'])\n",
    "forcing = pd.DataFrame()\n",
    "forcing['P'] = data['P']\n",
    "forcing['PE'] = data['PE']\n",
    "forcing['Q'] = data['Q']\n",
    "forcing.index = data.apply(lambda x: date(int(x.year), int(x.month), int(x.day)), axis=1)\n",
    "forcing.index = pd.to_datetime(forcing.index, format='%Y-%m-%d')\n"
   ]
  },
  {
   "cell_type": "markdown",
   "metadata": {
    "editable": true,
    "slideshow": {
     "slide_type": ""
    },
    "tags": []
   },
   "source": [
    "To create an interactive plot, the sets with minimum and maximum parameters should be given. If you want you can change these values. \n",
    "\n",
    "If you run the cell below, an interactive plot will be generated. In this plot you can change the values of the different parameters, play with the values and see their effect on the hydrograph and the NSE value. How many times did you change the parameters to get a reasonable NSE value?\n",
    "\n",
    "**Before you close this exercise: the function ```HBVMod``` you fixed above is required as an input for the first eWatercycle exercise. If you close your browser you loose what you have made. So: before you close this window, copy - paste your ```HBVMod``` function into a local text file on your computer!**"
   ]
  },
  {
   "cell_type": "code",
   "execution_count": 5,
   "metadata": {
    "editable": true,
    "slideshow": {
     "slide_type": ""
    },
    "tags": []
   },
   "outputs": [],
   "source": [
    "params = {\n",
    "    'I_max': {'min': 0, 'max': 10},\n",
    "    'Ce': {'min': 0.1, 'max': 1},\n",
    "    'Su_max': {'min': 40, 'max': 800},\n",
    "    'beta': {'min': 0.5, 'max': 5},\n",
    "    'P_max': {'min': 0.001, 'max': 0.3},\n",
    "    'T_lag': {'min': 1, 'max': 10},\n",
    "    'Kf': {'min': 0.01, 'max': 0.1},\n",
    "    'Ks': {'min': 0.0001, 'max': 0.01},\n",
    "}\n"
   ]
  },
  {
   "cell_type": "code",
   "execution_count": null,
   "metadata": {},
   "outputs": [],
   "source": [
    "import pandas as pd\n",
    "import plotly.graph_objects as go\n",
    "\n",
    "def plot_interactive_hydrograph(df, observed_col='Observed', simulated_col='Simulated', time_col='Date'):\n",
    "    \"\"\"\n",
    "    Plot interactive hydrograph with Plotly.\n",
    "\n",
    "    Parameters:\n",
    "    - df: DataFrame with datetime and discharge data\n",
    "    - observed_col: name of the observed discharge column\n",
    "    - simulated_col: name of the simulated/model discharge column\n",
    "    - time_col: name of the datetime column\n",
    "    \"\"\"\n",
    "    fig = go.Figure()\n",
    "\n",
    "    if observed_col in df.columns:\n",
    "        fig.add_trace(go.Scatter(\n",
    "            x=df[time_col],\n",
    "            y=df[observed_col],\n",
    "            mode='lines',\n",
    "            name='Observed',\n",
    "            line=dict(color='blue')\n",
    "        ))\n",
    "\n",
    "    if simulated_col in df.columns:\n",
    "        fig.add_trace(go.Scatter(\n",
    "            x=df[time_col],\n",
    "            y=df[simulated_col],\n",
    "            mode='lines',\n",
    "            name='Simulated',\n",
    "            line=dict(color='red', dash='dash')\n",
    "        ))\n",
    "\n",
    "    fig.update_layout(\n",
    "        title='Interactive Hydrograph',\n",
    "        xaxis_title='Date',\n",
    "        yaxis_title='Discharge [m³/s]',\n",
    "        template='plotly_white',\n",
    "        hovermode='x unified',\n",
    "        legend=dict(x=0, y=1),\n",
    "        height=500\n",
    "    )\n",
    "\n",
    "    fig.show()\n"
   ]
  },
  {
   "cell_type": "code",
   "execution_count": null,
   "metadata": {
    "editable": true,
    "slideshow": {
     "slide_type": ""
    },
    "tags": []
   },
   "outputs": [
    {
     "ename": "NameError",
     "evalue": "name 'HBVMod' is not defined",
     "output_type": "error",
     "traceback": [
      "\u001b[0;31m---------------------------------------------------------------------------\u001b[0m",
      "\u001b[0;31mNameError\u001b[0m                                 Traceback (most recent call last)",
      "Cell \u001b[0;32mIn[6], line 1\u001b[0m\n\u001b[0;32m----> 1\u001b[0m interactive_plot(\u001b[43mHBVMod\u001b[49m, forcing, params)\n",
      "\u001b[0;31mNameError\u001b[0m: name 'HBVMod' is not defined"
     ]
    }
   ],
   "source": [
    "plot_interactive_hydrograph(HBVMod, forcing, params)"
   ]
  }
 ],
 "metadata": {
  "kernelspec": {
   "display_name": "mude-base",
   "language": "python",
   "name": "python3"
  },
  "language_info": {
   "codemirror_mode": {
    "name": "ipython",
    "version": 3
   },
   "file_extension": ".py",
   "mimetype": "text/x-python",
   "name": "python",
   "nbconvert_exporter": "python",
   "pygments_lexer": "ipython3",
   "version": "3.12.4"
  }
 },
 "nbformat": 4,
 "nbformat_minor": 4
}
