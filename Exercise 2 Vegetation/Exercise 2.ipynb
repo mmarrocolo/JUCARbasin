{
 "cells": [
  {
   "cell_type": "code",
   "execution_count": 36,
   "metadata": {},
   "outputs": [],
   "source": [
    "import numpy as np\n",
    "import pandas as pd\n",
    "import scipy.stats as stats\n",
    "import matplotlib.pyplot as plt"
   ]
  },
  {
   "cell_type": "code",
   "execution_count": 38,
   "metadata": {},
   "outputs": [
    {
     "name": "stdout",
     "output_type": "stream",
     "text": [
      "                prec        EP         Q\n",
      "2000-01-01  0.004016  1.168847  0.034243\n",
      "2000-01-02  0.000000  1.184061  0.034726\n",
      "2000-01-03  0.020909  1.059634  0.034927\n",
      "2000-01-04  0.000000  1.175390  0.034525\n",
      "2000-01-05  0.000000  1.182336  0.035047\n"
     ]
    },
    {
     "name": "stderr",
     "output_type": "stream",
     "text": [
      "C:\\Users\\margh\\AppData\\Local\\Temp\\ipykernel_23144\\4200703128.py:37: FutureWarning: ChainedAssignmentError: behaviour will change in pandas 3.0!\n",
      "You are setting values through chained assignment. Currently this works in certain cases, but when using Copy-on-Write (which will become the default behaviour in pandas 3.0) this will never work to update the original DataFrame or Series, because the intermediate object on which we are setting values will behave as a copy.\n",
      "A typical example is when you are setting values in a column of a DataFrame, like:\n",
      "\n",
      "df[\"col\"][row_indexer] = value\n",
      "\n",
      "Use `df.loc[row_indexer, \"col\"] = values` instead, to perform the assignment in a single step and ensure this keeps updating the original `df`.\n",
      "\n",
      "See the caveats in the documentation: https://pandas.pydata.org/pandas-docs/stable/user_guide/indexing.html#returning-a-view-versus-a-copy\n",
      "\n",
      "  df['Q'][df['Q'] < 0] = np.nan\n"
     ]
    }
   ],
   "source": [
    "import xarray as xr\n",
    "\n",
    "# --- 1. Load Precipitation Data (NetCDF) ---\n",
    "def load_precipitation(filepath):\n",
    "    ds = xr.open_dataset(filepath)\n",
    "    df = ds.to_dataframe().reset_index()\n",
    "    df = df[df['bnds'] == 0]  # Filter to keep valid bounds\n",
    "    df.index = pd.to_datetime(df['time'])\n",
    "    df.index = df.index.normalize()  # Set index to Timestamp (no time component)\n",
    "    df = df.drop(columns=['time', 'bnds'])\n",
    "    prec = df['pr'] * 86400  # Convert from m/s to mm/day\n",
    "    prec[prec < 0] = np.nan  # Handle negative values\n",
    "    return prec.dropna()\n",
    "\n",
    "prec = load_precipitation(\"OBS6_ERA5_reanaly_1_day_pr_2000-2018.nc\")\n",
    "\n",
    "# --- 2. Load Potential Evapotranspiration (NetCDF) ---\n",
    "def load_evapotranspiration(filepath):\n",
    "    ds = xr.open_dataset(filepath)\n",
    "    df = ds.to_dataframe().reset_index()\n",
    "    df.index = pd.to_datetime(df['time'])\n",
    "    df.index = df.index.normalize()\n",
    "    ep = df['evspsblpot'] * 86400  # Convert from mm/s to mm/day\n",
    "    ep[ep < 0] = np.nan\n",
    "    return ep.dropna()\n",
    "\n",
    "EP = load_evapotranspiration(\"Derived_Makkink_evspsblpot_2000_2018.nc\")\n",
    "\n",
    "# --- 3. Load Discharge Data (CSV) ---\n",
    "def load_discharge(filepath, basin_area):\n",
    "    df = pd.read_csv(filepath, delimiter=\";\", skiprows=37, header=None, encoding='latin1')\n",
    "    df = df[[0, 2]]  # Keep only date and Q columns\n",
    "    df.columns = ['Date', 'Q']\n",
    "    df['Date'] = pd.to_datetime(df['Date'], format='%Y-%m-%d')\n",
    "    df.set_index('Date', inplace=True)\n",
    "    df['Q'] = (df['Q'] / basin_area) * 1e3 * 86400  # Convert to mm/day\n",
    "    df['Q'][df['Q'] < 0] = np.nan\n",
    "    return df['Q'].dropna()\n",
    "\n",
    "A = 21497e6  # Basin area in m²\n",
    "dfQ = load_discharge(\"6227510_Q_Day.Cmd.txt\", A)\n",
    "\n",
    "# --- 4. Align Time Series (2000-2017) ---\n",
    "def align_data(prec, EP, Q, start_year=2000, end_date='2017-09-30'):\n",
    "    # Filter by date range\n",
    "    prec = prec[(prec.index.year >= start_year) & (prec.index <= pd.to_datetime(end_date))]\n",
    "    EP = EP[(EP.index.year >= start_year) & (EP.index <= pd.to_datetime(end_date))]\n",
    "    Q = Q[(Q.index.year >= start_year) & (Q.index <= pd.to_datetime(end_date))]\n",
    "    # Merge into a single DataFrame\n",
    "    aligned_data = pd.concat([prec, EP, Q], axis=1, join='inner')\n",
    "    aligned_data.columns = ['prec', 'EP', 'Q']\n",
    "    return aligned_data\n",
    "\n",
    "final_data = align_data(prec, EP, dfQ)\n",
    "# Drop rows where any column has a NaN value\n",
    "final_data = final_data.dropna()\n",
    "print(final_data.head())\n",
    "\n",
    "prec = final_data['prec']\n",
    "EP = final_data['EP']\n",
    "Q = final_data['Q']\n"
   ]
  },
  {
   "cell_type": "code",
   "execution_count": null,
   "metadata": {},
   "outputs": [
    {
     "name": "stdout",
     "output_type": "stream",
     "text": [
      "0.590501186388776\n"
     ]
    }
   ],
   "source": [
    "n = len(prec)\n",
    "t = np.arange(n)\n",
    "Si1 = np.zeros(n)\n",
    "Si_max = 2.5 #?????????????????????????????????????????????????????????????????''\n",
    "Pe_1 = np.zeros(n)\n",
    "for t in np.arange(1,n,1):\n",
    "\n",
    "    Si1[t] = Si1[t-1] + prec.iloc[t]  # Use .iloc to get the scalar value\n",
    "    if Si1[t] > Si_max:\n",
    "        Pe_1[t] = Si1[t] - Si_max\n",
    "    else:\n",
    "        Pe_1[t] = 0\n",
    "    Si1[t] = Si1[t] - Pe_1[t]\n",
    "    deltS = Si1[t] - EP.iloc[t]  # Use .iloc to get the scalar value\n",
    "    Si1[t] = np.maximum(0, deltS)\n",
    "\n",
    "Pe_1_mean = Pe_1.mean()\n",
    "\n",
    "\n",
    "print(Pe_1_mean/prec.mean())\n"
   ]
  },
  {
   "cell_type": "code",
   "execution_count": 41,
   "metadata": {},
   "outputs": [
    {
     "name": "stdout",
     "output_type": "stream",
     "text": [
      "6124\n",
      "6124\n",
      "6124\n",
      "6124\n",
      "6124\n"
     ]
    }
   ],
   "source": [
    "print(len(prec.index))\n",
    "print(len(EP.index))\n",
    "print(len(Q))\n",
    "print(len(Si1))\n",
    "print(len(Pe_1))\n"
   ]
  },
  {
   "cell_type": "code",
   "execution_count": 48,
   "metadata": {},
   "outputs": [
    {
     "data": {
      "text/html": [
       "<div>\n",
       "<style scoped>\n",
       "    .dataframe tbody tr th:only-of-type {\n",
       "        vertical-align: middle;\n",
       "    }\n",
       "\n",
       "    .dataframe tbody tr th {\n",
       "        vertical-align: top;\n",
       "    }\n",
       "\n",
       "    .dataframe thead th {\n",
       "        text-align: right;\n",
       "    }\n",
       "</style>\n",
       "<table border=\"1\" class=\"dataframe\">\n",
       "  <thead>\n",
       "    <tr style=\"text-align: right;\">\n",
       "      <th></th>\n",
       "      <th>P</th>\n",
       "      <th>EP</th>\n",
       "      <th>Q</th>\n",
       "      <th>S</th>\n",
       "      <th>Pe</th>\n",
       "    </tr>\n",
       "  </thead>\n",
       "  <tbody>\n",
       "    <tr>\n",
       "      <th>2000-01-01</th>\n",
       "      <td>0.004016</td>\n",
       "      <td>1.168847</td>\n",
       "      <td>0.034243</td>\n",
       "      <td>0.000000</td>\n",
       "      <td>0.000000</td>\n",
       "    </tr>\n",
       "    <tr>\n",
       "      <th>2000-01-02</th>\n",
       "      <td>0.000000</td>\n",
       "      <td>1.184061</td>\n",
       "      <td>0.034726</td>\n",
       "      <td>0.000000</td>\n",
       "      <td>0.000000</td>\n",
       "    </tr>\n",
       "    <tr>\n",
       "      <th>2000-01-03</th>\n",
       "      <td>0.020909</td>\n",
       "      <td>1.059634</td>\n",
       "      <td>0.034927</td>\n",
       "      <td>0.000000</td>\n",
       "      <td>0.000000</td>\n",
       "    </tr>\n",
       "    <tr>\n",
       "      <th>2000-01-04</th>\n",
       "      <td>0.000000</td>\n",
       "      <td>1.175390</td>\n",
       "      <td>0.034525</td>\n",
       "      <td>0.000000</td>\n",
       "      <td>0.000000</td>\n",
       "    </tr>\n",
       "    <tr>\n",
       "      <th>2000-01-05</th>\n",
       "      <td>0.000000</td>\n",
       "      <td>1.182336</td>\n",
       "      <td>0.035047</td>\n",
       "      <td>0.000000</td>\n",
       "      <td>0.000000</td>\n",
       "    </tr>\n",
       "    <tr>\n",
       "      <th>2000-01-06</th>\n",
       "      <td>0.000793</td>\n",
       "      <td>1.199630</td>\n",
       "      <td>0.035128</td>\n",
       "      <td>0.000000</td>\n",
       "      <td>0.000000</td>\n",
       "    </tr>\n",
       "    <tr>\n",
       "      <th>2000-01-07</th>\n",
       "      <td>0.000000</td>\n",
       "      <td>1.223502</td>\n",
       "      <td>0.035972</td>\n",
       "      <td>0.000000</td>\n",
       "      <td>0.000000</td>\n",
       "    </tr>\n",
       "    <tr>\n",
       "      <th>2000-01-08</th>\n",
       "      <td>0.000000</td>\n",
       "      <td>0.953342</td>\n",
       "      <td>0.036414</td>\n",
       "      <td>0.000000</td>\n",
       "      <td>0.000000</td>\n",
       "    </tr>\n",
       "    <tr>\n",
       "      <th>2000-01-09</th>\n",
       "      <td>1.723231</td>\n",
       "      <td>1.049964</td>\n",
       "      <td>0.037338</td>\n",
       "      <td>0.673267</td>\n",
       "      <td>0.000000</td>\n",
       "    </tr>\n",
       "    <tr>\n",
       "      <th>2000-01-10</th>\n",
       "      <td>2.129957</td>\n",
       "      <td>0.699373</td>\n",
       "      <td>0.043769</td>\n",
       "      <td>1.800627</td>\n",
       "      <td>0.303224</td>\n",
       "    </tr>\n",
       "    <tr>\n",
       "      <th>2000-01-11</th>\n",
       "      <td>0.619415</td>\n",
       "      <td>0.981079</td>\n",
       "      <td>0.044412</td>\n",
       "      <td>1.438963</td>\n",
       "      <td>0.000000</td>\n",
       "    </tr>\n",
       "    <tr>\n",
       "      <th>2000-01-12</th>\n",
       "      <td>0.005384</td>\n",
       "      <td>1.190725</td>\n",
       "      <td>0.036454</td>\n",
       "      <td>0.253622</td>\n",
       "      <td>0.000000</td>\n",
       "    </tr>\n",
       "    <tr>\n",
       "      <th>2000-01-13</th>\n",
       "      <td>0.016869</td>\n",
       "      <td>1.179259</td>\n",
       "      <td>0.037820</td>\n",
       "      <td>0.000000</td>\n",
       "      <td>0.000000</td>\n",
       "    </tr>\n",
       "    <tr>\n",
       "      <th>2000-01-14</th>\n",
       "      <td>7.593767</td>\n",
       "      <td>0.331929</td>\n",
       "      <td>0.038142</td>\n",
       "      <td>2.168071</td>\n",
       "      <td>5.093767</td>\n",
       "    </tr>\n",
       "    <tr>\n",
       "      <th>2000-01-15</th>\n",
       "      <td>0.058789</td>\n",
       "      <td>0.983987</td>\n",
       "      <td>0.040312</td>\n",
       "      <td>1.242873</td>\n",
       "      <td>0.000000</td>\n",
       "    </tr>\n",
       "  </tbody>\n",
       "</table>\n",
       "</div>"
      ],
      "text/plain": [
       "                   P        EP         Q         S        Pe\n",
       "2000-01-01  0.004016  1.168847  0.034243  0.000000  0.000000\n",
       "2000-01-02  0.000000  1.184061  0.034726  0.000000  0.000000\n",
       "2000-01-03  0.020909  1.059634  0.034927  0.000000  0.000000\n",
       "2000-01-04  0.000000  1.175390  0.034525  0.000000  0.000000\n",
       "2000-01-05  0.000000  1.182336  0.035047  0.000000  0.000000\n",
       "2000-01-06  0.000793  1.199630  0.035128  0.000000  0.000000\n",
       "2000-01-07  0.000000  1.223502  0.035972  0.000000  0.000000\n",
       "2000-01-08  0.000000  0.953342  0.036414  0.000000  0.000000\n",
       "2000-01-09  1.723231  1.049964  0.037338  0.673267  0.000000\n",
       "2000-01-10  2.129957  0.699373  0.043769  1.800627  0.303224\n",
       "2000-01-11  0.619415  0.981079  0.044412  1.438963  0.000000\n",
       "2000-01-12  0.005384  1.190725  0.036454  0.253622  0.000000\n",
       "2000-01-13  0.016869  1.179259  0.037820  0.000000  0.000000\n",
       "2000-01-14  7.593767  0.331929  0.038142  2.168071  5.093767\n",
       "2000-01-15  0.058789  0.983987  0.040312  1.242873  0.000000"
      ]
     },
     "execution_count": 48,
     "metadata": {},
     "output_type": "execute_result"
    }
   ],
   "source": [
    "data = pd.DataFrame({'P': prec, 'EP': EP, 'Q': Q,  'S': Si1, 'Pe': Pe_1}, index=prec.index)\n",
    "data.head(15)"
   ]
  },
  {
   "cell_type": "code",
   "execution_count": 49,
   "metadata": {},
   "outputs": [
    {
     "data": {
      "text/plain": [
       "<Axes: >"
      ]
     },
     "execution_count": 49,
     "metadata": {},
     "output_type": "execute_result"
    },
    {
     "data": {
      "image/png": "[encoded data removed]",
      "text/plain": [
       "<Figure size 640x480 with 1 Axes>"
      ]
     },
     "metadata": {},
     "output_type": "display_data"
    }
   ],
   "source": [
    "data.plot()"
   ]
  },
  {
   "cell_type": "code",
   "execution_count": 44,
   "metadata": {},
   "outputs": [
    {
     "name": "stdout",
     "output_type": "stream",
     "text": [
      "0.590501186388776\n"
     ]
    }
   ],
   "source": [
    "P = data['P'].mean()\n",
    "Pe = data['Pe'].mean()\n",
    "\n",
    "print(Pe/prec.mean())"
   ]
  },
  {
   "cell_type": "code",
   "execution_count": 45,
   "metadata": {},
   "outputs": [
    {
     "name": "stdout",
     "output_type": "stream",
     "text": [
      "267.9207754143298\n"
     ]
    }
   ],
   "source": [
    "#PROBLEM 2\n",
    "P_mean = data['P'].mean()\n",
    "EP_mean = data['EP'].mean()\n",
    "Q_mean = data['Q'].mean()\n",
    "\n",
    "ET_mean = P_mean - Q_mean #transpiration\n",
    "\n",
    "#print (P_mean, EP_mean, Q_mean, ET_mean)\n",
    "\n",
    "data.loc[:,'ET'] = (data['EP']/EP_mean)*ET_mean\n",
    "\n",
    "data.loc[:,'P-ET'] = data['P'] - data['ET']\n",
    "\n",
    "\n",
    "for i in range(1, len(data)):\n",
    "    if data['P-ET'].iloc[:i].cumsum().iloc[-1] > 0:\n",
    "        data.loc[data.index[i], 'SD'] = 0\n",
    "    else:\n",
    "        data.loc[data.index[i], 'SD'] = data['P-ET'].iloc[:i].cumsum().iloc[-1]\n",
    "\n",
    "\n",
    "SR = data['SD'].min()\n",
    "        \n",
    "print(-SR)"
   ]
  },
  {
   "cell_type": "code",
   "execution_count": null,
   "metadata": {},
   "outputs": [],
   "source": []
  }
 ],
 "metadata": {
  "kernelspec": {
   "display_name": "mude-base",
   "language": "python",
   "name": "python3"
  },
  "language_info": {
   "codemirror_mode": {
    "name": "ipython",
    "version": 3
   },
   "file_extension": ".py",
   "mimetype": "text/x-python",
   "name": "python",
   "nbconvert_exporter": "python",
   "pygments_lexer": "ipython3",
   "version": "3.12.4"
  }
 },
 "nbformat": 4,
 "nbformat_minor": 2
}
