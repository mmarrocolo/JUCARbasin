{
 "cells": [
  {
   "cell_type": "code",
   "execution_count": 59,
   "metadata": {},
   "outputs": [],
   "source": [
    "import numpy as np\n",
    "import pandas as pd\n",
    "import scipy.stats as stats\n",
    "import matplotlib.pyplot as plt"
   ]
  },
  {
   "cell_type": "markdown",
   "metadata": {},
   "source": [
    "## Read data"
   ]
  },
  {
   "cell_type": "code",
   "execution_count": 64,
   "metadata": {},
   "outputs": [
    {
     "name": "stderr",
     "output_type": "stream",
     "text": [
      "C:\\Users\\margh\\AppData\\Local\\Temp\\ipykernel_23144\\2286975615.py:35: FutureWarning: The 'delim_whitespace' keyword in pd.read_csv is deprecated and will be removed in a future version. Use ``sep='\\s+'`` instead\n",
      "  dfQ = pd.read_csv(filename, delim_whitespace=True, skiprows=1, header=None, encoding='latin1')  # Specify encoding\n"
     ]
    }
   ],
   "source": [
    "import xarray as xr\n",
    "\n",
    "filename = \"OBS6_ERA5_reanaly_1_day_pr_2000-2018_newbasin.nc\"  # Update the path to the correct location of the file\n",
    "# Read the NetCDF file\n",
    "ds = xr.open_dataset(filename)\n",
    "# Convert to a pandas DataFrame\n",
    "df = ds.to_dataframe()\n",
    "# Reset the index if needed\n",
    "df.reset_index(inplace=True)\n",
    "df = df[df['bnds'] == 0]\n",
    "df.index = pd.to_datetime(df['time'])\n",
    "df.index = df.index.normalize()\n",
    "df.drop(columns=['time', 'bnds'], inplace=True)\n",
    "prec  = df['pr']  # Precipitation data\n",
    "prec  = prec*86400  # Convert from m/s to mm/day)\n",
    "prec[prec < 0] = 0  # Set negative values to zero\n",
    "\n",
    "\n",
    "filename = \"Derived_Makkink_evspsblpot_newbasin.nc\"  # Update the path to the correct location of the file\n",
    "# Read the NetCDF file\n",
    "dsEP = xr.open_dataset(filename)\n",
    "# Convert to a pandas DataFrame\n",
    "dfEP = dsEP.to_dataframe()\n",
    "# Reset the index if needed\n",
    "dfEP.reset_index(inplace=True)\n",
    "EP = dfEP['evspsblpot']  # Evapotranspiration data\n",
    "EP.index = pd.to_datetime(dfEP['time'])\n",
    "EP.index = EP.index.normalize()\n",
    "EP = EP*86400  # Convert from mm/s to mm/day)\n",
    "EP[EP < 0] = 0  # Set negative values to zero\n",
    "\n",
    "\n",
    "filename = \"Upstream_Q.txt\"\n",
    "A = 17002.553 *10**6 #m^2\n",
    "dfQ = pd.read_csv(filename, delim_whitespace=True, skiprows=1, header=None, encoding='latin1')  # Specify encoding\n",
    "dfQ = dfQ[[0, 3]]  # Select only the first and third columns\n",
    "dfQ.columns = ['Date', 'Q']  # Rename columns for clarity\n",
    "dfQ['Date'] = pd.to_datetime(dfQ['Date'], format='%Y-%m-%d')  # Convert 'Date' column to datetime\n",
    "dfQ.set_index('Date', inplace=True)  # Set 'Date' as the index\n",
    "dfQ['Q'] = (dfQ['Q']/A)*(10**3) #mm/day\n"
   ]
  },
  {
   "cell_type": "markdown",
   "metadata": {},
   "source": [
    "## Water Balance canopy interception"
   ]
  },
  {
   "cell_type": "markdown",
   "metadata": {},
   "source": [
    "With this exercise we used the water balance to calculate the storage in the canopy interception and the throughfall with the data of precipitation and potential evaporation from 2000 to 2019. A few hypothesis were made:  \n",
    "1.\tThe water available in the storage evaporates at a rate equal to the potential evaporation. \n",
    "2.\tThe maximum value of water interception in the canopy was assumed equal to 2.5 mm (find possible real value).\n",
    "3.\tThe interception storage is assumed to be empty before the first day given in the data.\n"
   ]
  },
  {
   "cell_type": "code",
   "execution_count": 70,
   "metadata": {},
   "outputs": [
    {
     "name": "stdout",
     "output_type": "stream",
     "text": [
      "0.589065817103928\n"
     ]
    }
   ],
   "source": [
    "n = len(prec)\n",
    "t = np.arange(n)\n",
    "Si1 = np.zeros(n)\n",
    "Si2 = np.zeros(n)\n",
    "Si_max = 2.5 #?????????????????????????????????????????????????????????????????''\n",
    "Pe_1 = np.zeros(n)\n",
    "Pe_2 = np.zeros(n)\n",
    "\n",
    "for t in np.arange(1,n,1):\n",
    "\n",
    "    Si1[t] = Si1[t-1] + prec.iloc[t]  # Use .iloc to get the scalar value\n",
    "    if Si1[t] > Si_max:\n",
    "        Pe_1[t] = Si1[t] - Si_max\n",
    "    else:\n",
    "        Pe_1[t] = 0\n",
    "    Si1[t] = Si1[t] - Pe_1[t]\n",
    "    deltS = Si1[t] - EP.iloc[t]  # Use .iloc to get the scalar value\n",
    "    Si1[t] = np.maximum(0, deltS)\n",
    "\n",
    "Pe_1_mean = Pe_1.mean()\n",
    "\n",
    "\n",
    "print(Pe_1_mean/prec.mean())\n"
   ]
  },
  {
   "cell_type": "code",
   "execution_count": 71,
   "metadata": {},
   "outputs": [
    {
     "name": "stdout",
     "output_type": "stream",
     "text": [
      "6940\n",
      "6940\n",
      "6940\n",
      "6940\n",
      "6940\n"
     ]
    }
   ],
   "source": [
    "print(len(prec.index))\n",
    "print(len(EP.index))\n",
    "print(len(dfQ.index))\n",
    "print(len(Si1))\n",
    "print(len(Pe_1))\n"
   ]
  },
  {
   "cell_type": "code",
   "execution_count": 76,
   "metadata": {},
   "outputs": [
    {
     "data": {
      "text/html": [
       "<div>\n",
       "<style scoped>\n",
       "    .dataframe tbody tr th:only-of-type {\n",
       "        vertical-align: middle;\n",
       "    }\n",
       "\n",
       "    .dataframe tbody tr th {\n",
       "        vertical-align: top;\n",
       "    }\n",
       "\n",
       "    .dataframe thead th {\n",
       "        text-align: right;\n",
       "    }\n",
       "</style>\n",
       "<table border=\"1\" class=\"dataframe\">\n",
       "  <thead>\n",
       "    <tr style=\"text-align: right;\">\n",
       "      <th></th>\n",
       "      <th>P</th>\n",
       "      <th>EP</th>\n",
       "      <th>Q</th>\n",
       "      <th>S</th>\n",
       "      <th>Pe</th>\n",
       "    </tr>\n",
       "    <tr>\n",
       "      <th>time</th>\n",
       "      <th></th>\n",
       "      <th></th>\n",
       "      <th></th>\n",
       "      <th></th>\n",
       "      <th></th>\n",
       "    </tr>\n",
       "  </thead>\n",
       "  <tbody>\n",
       "    <tr>\n",
       "      <th>2000-01-01</th>\n",
       "      <td>0.004437</td>\n",
       "      <td>1.156963</td>\n",
       "      <td>0.000000</td>\n",
       "      <td>0.000000</td>\n",
       "      <td>0.000000</td>\n",
       "    </tr>\n",
       "    <tr>\n",
       "      <th>2000-01-02</th>\n",
       "      <td>0.000000</td>\n",
       "      <td>1.175265</td>\n",
       "      <td>0.082691</td>\n",
       "      <td>0.000000</td>\n",
       "      <td>0.000000</td>\n",
       "    </tr>\n",
       "    <tr>\n",
       "      <th>2000-01-03</th>\n",
       "      <td>0.020500</td>\n",
       "      <td>1.067080</td>\n",
       "      <td>0.079740</td>\n",
       "      <td>0.000000</td>\n",
       "      <td>0.000000</td>\n",
       "    </tr>\n",
       "    <tr>\n",
       "      <th>2000-01-04</th>\n",
       "      <td>0.000000</td>\n",
       "      <td>1.165309</td>\n",
       "      <td>0.077725</td>\n",
       "      <td>0.000000</td>\n",
       "      <td>0.000000</td>\n",
       "    </tr>\n",
       "    <tr>\n",
       "      <th>2000-01-05</th>\n",
       "      <td>0.000000</td>\n",
       "      <td>1.169341</td>\n",
       "      <td>0.073602</td>\n",
       "      <td>0.000000</td>\n",
       "      <td>0.000000</td>\n",
       "    </tr>\n",
       "    <tr>\n",
       "      <th>2000-01-06</th>\n",
       "      <td>0.000818</td>\n",
       "      <td>1.187644</td>\n",
       "      <td>0.070334</td>\n",
       "      <td>0.000000</td>\n",
       "      <td>0.000000</td>\n",
       "    </tr>\n",
       "    <tr>\n",
       "      <th>2000-01-07</th>\n",
       "      <td>0.000000</td>\n",
       "      <td>1.214381</td>\n",
       "      <td>0.062506</td>\n",
       "      <td>0.000000</td>\n",
       "      <td>0.000000</td>\n",
       "    </tr>\n",
       "    <tr>\n",
       "      <th>2000-01-08</th>\n",
       "      <td>0.000000</td>\n",
       "      <td>0.946409</td>\n",
       "      <td>0.067407</td>\n",
       "      <td>0.000000</td>\n",
       "      <td>0.000000</td>\n",
       "    </tr>\n",
       "    <tr>\n",
       "      <th>2000-01-09</th>\n",
       "      <td>1.873820</td>\n",
       "      <td>1.022426</td>\n",
       "      <td>0.064993</td>\n",
       "      <td>0.851395</td>\n",
       "      <td>0.000000</td>\n",
       "    </tr>\n",
       "    <tr>\n",
       "      <th>2000-01-10</th>\n",
       "      <td>1.744688</td>\n",
       "      <td>0.716974</td>\n",
       "      <td>0.060327</td>\n",
       "      <td>1.783026</td>\n",
       "      <td>0.096083</td>\n",
       "    </tr>\n",
       "    <tr>\n",
       "      <th>2000-01-11</th>\n",
       "      <td>0.249004</td>\n",
       "      <td>1.013242</td>\n",
       "      <td>0.071254</td>\n",
       "      <td>1.018788</td>\n",
       "      <td>0.000000</td>\n",
       "    </tr>\n",
       "    <tr>\n",
       "      <th>2000-01-12</th>\n",
       "      <td>0.002166</td>\n",
       "      <td>1.179666</td>\n",
       "      <td>0.065162</td>\n",
       "      <td>0.000000</td>\n",
       "      <td>0.000000</td>\n",
       "    </tr>\n",
       "    <tr>\n",
       "      <th>2000-01-13</th>\n",
       "      <td>0.017351</td>\n",
       "      <td>1.162505</td>\n",
       "      <td>0.065213</td>\n",
       "      <td>0.000000</td>\n",
       "      <td>0.000000</td>\n",
       "    </tr>\n",
       "    <tr>\n",
       "      <th>2000-01-14</th>\n",
       "      <td>7.450263</td>\n",
       "      <td>0.333375</td>\n",
       "      <td>0.057410</td>\n",
       "      <td>2.166625</td>\n",
       "      <td>4.950263</td>\n",
       "    </tr>\n",
       "    <tr>\n",
       "      <th>2000-01-15</th>\n",
       "      <td>0.051576</td>\n",
       "      <td>0.986337</td>\n",
       "      <td>0.069786</td>\n",
       "      <td>1.231864</td>\n",
       "      <td>0.000000</td>\n",
       "    </tr>\n",
       "  </tbody>\n",
       "</table>\n",
       "</div>"
      ],
      "text/plain": [
       "                   P        EP         Q         S        Pe\n",
       "time                                                        \n",
       "2000-01-01  0.004437  1.156963  0.000000  0.000000  0.000000\n",
       "2000-01-02  0.000000  1.175265  0.082691  0.000000  0.000000\n",
       "2000-01-03  0.020500  1.067080  0.079740  0.000000  0.000000\n",
       "2000-01-04  0.000000  1.165309  0.077725  0.000000  0.000000\n",
       "2000-01-05  0.000000  1.169341  0.073602  0.000000  0.000000\n",
       "2000-01-06  0.000818  1.187644  0.070334  0.000000  0.000000\n",
       "2000-01-07  0.000000  1.214381  0.062506  0.000000  0.000000\n",
       "2000-01-08  0.000000  0.946409  0.067407  0.000000  0.000000\n",
       "2000-01-09  1.873820  1.022426  0.064993  0.851395  0.000000\n",
       "2000-01-10  1.744688  0.716974  0.060327  1.783026  0.096083\n",
       "2000-01-11  0.249004  1.013242  0.071254  1.018788  0.000000\n",
       "2000-01-12  0.002166  1.179666  0.065162  0.000000  0.000000\n",
       "2000-01-13  0.017351  1.162505  0.065213  0.000000  0.000000\n",
       "2000-01-14  7.450263  0.333375  0.057410  2.166625  4.950263\n",
       "2000-01-15  0.051576  0.986337  0.069786  1.231864  0.000000"
      ]
     },
     "execution_count": 76,
     "metadata": {},
     "output_type": "execute_result"
    }
   ],
   "source": [
    "data = pd.DataFrame({'P': prec, 'EP': EP, 'Q': dfQ['Q'].values, 'S': Si1, 'Pe': Pe_1}, index=prec.index)\n",
    "data.head(15)"
   ]
  },
  {
   "cell_type": "code",
   "execution_count": 77,
   "metadata": {},
   "outputs": [
    {
     "data": {
      "text/plain": [
       "<Axes: xlabel='time'>"
      ]
     },
     "execution_count": 77,
     "metadata": {},
     "output_type": "execute_result"
    },
    {
     "data": {
      "image/png": "[encoded data removed]",
      "text/plain": [
       "<Figure size 640x480 with 1 Axes>"
      ]
     },
     "metadata": {},
     "output_type": "display_data"
    }
   ],
   "source": [
    "data.plot()"
   ]
  },
  {
   "cell_type": "markdown",
   "metadata": {},
   "source": [
    "**Ratio of long—term mean throughfall Pe over long-term mean precipitation**"
   ]
  },
  {
   "cell_type": "code",
   "execution_count": 73,
   "metadata": {},
   "outputs": [
    {
     "name": "stdout",
     "output_type": "stream",
     "text": [
      "0.589065817103928\n"
     ]
    }
   ],
   "source": [
    "P = data['P'].mean()\n",
    "Pe = data['Pe'].mean()\n",
    "\n",
    "print(Pe/prec.mean())"
   ]
  },
  {
   "cell_type": "markdown",
   "metadata": {},
   "source": [
    "Meaning that circa 60% of the rain reaches the soil."
   ]
  },
  {
   "cell_type": "markdown",
   "metadata": {},
   "source": [
    "## Rootzone Capacity"
   ]
  },
  {
   "cell_type": "markdown",
   "metadata": {},
   "source": [
    "The Rootzone Storage Capacity (water volume SR that does not drain away and that is accessible to plants in the unsaturated zone) was also estimated in this exercise using the water balance. As there is evidence that vegetation designs its root system in a way that it has sufficient access to water to bridge dry periods with return periods of 10-20 years, to calculate SR we found the maximum storage deficit in our data (19 years)."
   ]
  },
  {
   "cell_type": "code",
   "execution_count": 80,
   "metadata": {},
   "outputs": [
    {
     "name": "stdout",
     "output_type": "stream",
     "text": [
      "Rootzone storage:222.73762464012785 mm\n"
     ]
    }
   ],
   "source": [
    "P_mean = data['P'].mean()\n",
    "EP_mean = data['EP'].mean()\n",
    "Q_mean = data['Q'].mean()\n",
    "\n",
    "ET_mean = P_mean - Q_mean #transpiration\n",
    "\n",
    "#print (P_mean, EP_mean, Q_mean, ET_mean)\n",
    "\n",
    "data.loc[:,'ET'] = (data['EP']/EP_mean)*ET_mean\n",
    "\n",
    "data.loc[:,'P-ET'] = data['P'] - data['ET']\n",
    "\n",
    "\n",
    "for i in range(1, len(data)):\n",
    "    if data['P-ET'].iloc[:i].cumsum().iloc[-1] > 0:\n",
    "        data.loc[data.index[i], 'SD'] = 0\n",
    "    else:\n",
    "        data.loc[data.index[i], 'SD'] = data['P-ET'].iloc[:i].cumsum().iloc[-1]\n",
    "\n",
    "\n",
    "SR = data['SD'].min()\n",
    "        \n",
    "print(f'Rootzone storage:{-SR} mm')"
   ]
  },
  {
   "cell_type": "code",
   "execution_count": null,
   "metadata": {},
   "outputs": [],
   "source": []
  }
 ],
 "metadata": {
  "kernelspec": {
   "display_name": "mude-base",
   "language": "python",
   "name": "python3"
  },
  "language_info": {
   "codemirror_mode": {
    "name": "ipython",
    "version": 3
   },
   "file_extension": ".py",
   "mimetype": "text/x-python",
   "name": "python",
   "nbconvert_exporter": "python",
   "pygments_lexer": "ipython3",
   "version": "3.12.4"
  }
 },
 "nbformat": 4,
 "nbformat_minor": 2
}
